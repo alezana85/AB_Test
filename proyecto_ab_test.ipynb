{
 "cells": [
  {
   "cell_type": "markdown",
   "metadata": {},
   "source": [
    "# Descripción del proyecto"
   ]
  },
  {
   "cell_type": "markdown",
   "metadata": {},
   "source": [
    "## Contexto\n",
    "\n",
    "El departamento de marketing has recopilado una lista de hipótesis que pueden ayudar a aumentar los ingresos. \n",
    "    \n",
    "Tienes que priorizar estas hipótesis, lanzar un test A/B y analizar los resultados."
   ]
  },
  {
   "cell_type": "markdown",
   "metadata": {},
   "source": [
    "# Descripción de los datos"
   ]
  },
  {
   "cell_type": "markdown",
   "metadata": {},
   "source": [
    "## Datos utilizados en la primera parte del proyecto\n",
    "\n",
    "`/datasets/hypotheses_us.csv`\n",
    "\n",
    "  - `Hypotheses:` breves descripciones de las hipótesis\n",
    "  - `Reach:` alcance del usuario, en una escala del uno a diez\n",
    "  - `Impact:` impacto en los usuarios, en una escala del uno al diez\n",
    "  - `Confidence:` confianza en la hipótesis, en una escala del uno al diez\n",
    "  - `Effort:` los recursos necesarios para probar una hipótesis, en una escala del uno al diez. Cuanto mayor sea el valor Effort, más recursos requiere la prueba."
   ]
  },
  {
   "cell_type": "markdown",
   "metadata": {},
   "source": [
    "## Datos utilizados en la segunda parte del proyecto\n",
    "\n",
    "`/datasets/orders_us.csv`\n",
    "\n",
    "  - `transactionId:` identificador de pedido\n",
    "  - `visitorId:` identificador del usuario que realizó el pedido\n",
    "  - `date:` fecha del pedido\n",
    "  - `revenue:` ingresos del pedido\n",
    "  - `group:` el grupo del test A/B al que pertenece el usuario\n",
    "\n",
    "`/datasets/visits_us.csv`\n",
    "\n",
    "  - `date:` la fecha\n",
    "  - `group:` grupo del test A/B\n",
    "  - `visits:` el número de visitas en la fecha especificada para el grupo de test A/B especificado"
   ]
  },
  {
   "cell_type": "markdown",
   "metadata": {},
   "source": [
    "Asegúrate de preprocesar los datos. Es posible que haya errores en los datasets originales; por ejemplo, algunos de los visitantes podrían haber entrado tanto en el grupo A como en el grupo B."
   ]
  },
  {
   "cell_type": "markdown",
   "metadata": {},
   "source": [
    "# **Parte 1.** Priorizar hipótesis"
   ]
  },
  {
   "cell_type": "markdown",
   "metadata": {},
   "source": [
    "El archivo `hypotheses_us.csv` contiene nueve hipótesis sobre cómo aumentar los ingresos de una tienda en línea con `Reach`, `Impact`, `Confidence` y `Effort` especificados para cada una."
   ]
  },
  {
   "cell_type": "markdown",
   "metadata": {},
   "source": [
    "El ejercicio consiste en:"
   ]
  },
  {
   "cell_type": "markdown",
   "metadata": {},
   "source": [
    "  - Aplicar el framework `ICE` para priorizar hipótesis. Ordenarlas en orden descendente de prioridad.\n",
    "  - Aplicar el framework `RICE` para priorizar hipótesis. Ordenarlas en orden descendente de prioridad.\n",
    "  - Mostrar cómo cambia la priorización de hipótesis cuando utilizas `RICE` en lugar de `ICE`. Proporcionar una explicación de los cambios."
   ]
  },
  {
   "cell_type": "markdown",
   "metadata": {},
   "source": [
    "# **Parte 2.** Análisis de test A/B"
   ]
  },
  {
   "cell_type": "markdown",
   "metadata": {},
   "source": [
    "Realizaste un test A/B y obtuviste los resultados descritos en los archivos `orders_us.csv` y `visitors_us.csv.`"
   ]
  },
  {
   "cell_type": "markdown",
   "metadata": {},
   "source": [
    "## Ejercicio"
   ]
  },
  {
   "cell_type": "markdown",
   "metadata": {},
   "source": [
    "Analiza el test A/B:"
   ]
  },
  {
   "cell_type": "markdown",
   "metadata": {},
   "source": [
    "  1. Representa gráficamente el ingreso acumulado por grupo. Haz conclusiones y conjeturas.\n",
    "  2. Representa gráficamente el tamaño de pedido promedio acumulado por grupo. Haz conclusiones y conjeturas.\n",
    "  3. Representa gráficamente la diferencia relativa en el tamaño de pedido promedio acumulado para el grupo B en comparación con el grupo A. Haz conclusiones y conjeturas.\n",
    "  4. Calcula la tasa de conversión de cada grupo como la relación entre los pedidos y el número de visitas de cada día. Representa gráficamente las tasas de conversión diarias de los dos grupos y describe la diferencia. Saca conclusiones y haz conjeturas.\n",
    "  5. Traza un gráfico de dispersión del número de pedidos por usuario. Haz conclusiones y conjeturas.\n",
    "  6. Calcula los percentiles 95 y 99 para el número de pedidos por usuario. Define el punto en el cual un punto de datos se convierte en una anomalía.\n",
    "  7. Traza un gráfico de dispersión de los precios de los pedidos. Haz conclusiones y conjeturas.\n",
    "  8. Calcula los percentiles 95 y 99 de los precios de los pedidos. Define el punto en el cual un punto de datos se convierte en una anomalía.\n",
    "  9. Encuentra la significancia estadística de la diferencia en la conversión entre los grupos utilizando los datos en bruto. Haz conclusiones y conjeturas.\n",
    "  10. Encuentra la significancia estadística de la diferencia en el tamaño promedio de pedido entre los grupos utilizando los datos en bruto. Haz conclusiones y conjeturas.\n",
    "  11. Encuentra la significancia estadística de la diferencia en la conversión entre los grupos utilizando los datos filtrados. Haz conclusiones y conjeturas.\n",
    "  12. Encuentra la significancia estadística de la diferencia en el tamaño promedio de pedido entre los grupos utilizando los datos filtrados. Haz conclusiones y conjeturas.\n",
    "  13. Toma una decisión basada en los resultados de la prueba. Las decisiones posibles son: \n",
    "      1. Para la prueba, considera a uno de los grupos como líder. \n",
    "      2. Para la prueba, concluye que no hay diferencia entre los grupos. \n",
    "      3. Continúa la prueba."
   ]
  },
  {
   "cell_type": "markdown",
   "metadata": {},
   "source": [
    "El proyecto será evaluado según estos criterios:\n",
    "\n",
    "  - Cómo preparas los datos para el análisis\n",
    "  - Cómo priorizas las hipótesis\n",
    "  - Cómo interpretas los gráficos resultantes\n",
    "  - Cómo calculas la significancia estadística\n",
    "  - Qué conclusiones sacas con base en los resultados del test A/B\n",
    "  - Si sigues la estructura del proyecto y mantienes el código ordenado\n",
    "  - Las conclusiones que sacas\n",
    "  - Si dejas comentarios en cada paso"
   ]
  },
  {
   "cell_type": "markdown",
   "metadata": {},
   "source": [
    "# Proyecto 9"
   ]
  },
  {
   "cell_type": "markdown",
   "metadata": {},
   "source": [
    "## *Preparar los datos para el analisis*"
   ]
  },
  {
   "cell_type": "code",
   "execution_count": 302,
   "metadata": {},
   "outputs": [],
   "source": [
    "# Importar librerias\n",
    "import pandas as pd\n",
    "import datetime as dt\n",
    "import numpy as np\n",
    "from scipy import stats as st\n",
    "from matplotlib import pyplot as plt\n",
    "import seaborn as sns"
   ]
  },
  {
   "cell_type": "code",
   "execution_count": 303,
   "metadata": {},
   "outputs": [],
   "source": [
    "# Leer el archivos\n",
    "hypotheses = pd.read_csv('datasets/hypotheses_us.csv', sep=';')\n",
    "orders = pd.read_csv('datasets/orders_us.csv')\n",
    "visits = pd.read_csv('datasets/visits_us.csv')"
   ]
  },
  {
   "cell_type": "code",
   "execution_count": 304,
   "metadata": {},
   "outputs": [
    {
     "name": "stdout",
     "output_type": "stream",
     "text": [
      "DataFrame hypotheses:\n",
      "<class 'pandas.core.frame.DataFrame'>\n",
      "RangeIndex: 9 entries, 0 to 8\n",
      "Data columns (total 5 columns):\n",
      " #   Column      Non-Null Count  Dtype \n",
      "---  ------      --------------  ----- \n",
      " 0   Hypothesis  9 non-null      object\n",
      " 1   Reach       9 non-null      int64 \n",
      " 2   Impact      9 non-null      int64 \n",
      " 3   Confidence  9 non-null      int64 \n",
      " 4   Effort      9 non-null      int64 \n",
      "dtypes: int64(4), object(1)\n",
      "memory usage: 492.0+ bytes\n",
      "None\n",
      "--------------------------------------------------\n",
      "DataFrame orders:\n",
      "<class 'pandas.core.frame.DataFrame'>\n",
      "RangeIndex: 1197 entries, 0 to 1196\n",
      "Data columns (total 5 columns):\n",
      " #   Column         Non-Null Count  Dtype  \n",
      "---  ------         --------------  -----  \n",
      " 0   transactionId  1197 non-null   int64  \n",
      " 1   visitorId      1197 non-null   int64  \n",
      " 2   date           1197 non-null   object \n",
      " 3   revenue        1197 non-null   float64\n",
      " 4   group          1197 non-null   object \n",
      "dtypes: float64(1), int64(2), object(2)\n",
      "memory usage: 46.9+ KB\n",
      "None\n",
      "--------------------------------------------------\n",
      "DataFrame visits:\n",
      "<class 'pandas.core.frame.DataFrame'>\n",
      "RangeIndex: 62 entries, 0 to 61\n",
      "Data columns (total 3 columns):\n",
      " #   Column  Non-Null Count  Dtype \n",
      "---  ------  --------------  ----- \n",
      " 0   date    62 non-null     object\n",
      " 1   group   62 non-null     object\n",
      " 2   visits  62 non-null     int64 \n",
      "dtypes: int64(1), object(2)\n",
      "memory usage: 1.6+ KB\n",
      "None\n"
     ]
    }
   ],
   "source": [
    "# Analizar los DataFrames\n",
    "print('DataFrame hypotheses:')\n",
    "print(hypotheses.info())\n",
    "print('-'*50)\n",
    "print('DataFrame orders:')\n",
    "print(orders.info())\n",
    "print('-'*50)\n",
    "print('DataFrame visits:')\n",
    "print(visits.info())"
   ]
  },
  {
   "cell_type": "code",
   "execution_count": 305,
   "metadata": {},
   "outputs": [
    {
     "name": "stdout",
     "output_type": "stream",
     "text": [
      "DataFrame hypotheses:\n",
      "Hypothesis    0\n",
      "Reach         0\n",
      "Impact        0\n",
      "Confidence    0\n",
      "Effort        0\n",
      "dtype: int64\n",
      "--------------------------------------------------\n",
      "DataFrame orders:\n",
      "transactionId    0\n",
      "visitorId        0\n",
      "date             0\n",
      "revenue          0\n",
      "group            0\n",
      "dtype: int64\n",
      "--------------------------------------------------\n",
      "DataFrame visits:\n",
      "date      0\n",
      "group     0\n",
      "visits    0\n",
      "dtype: int64\n"
     ]
    }
   ],
   "source": [
    "# Analizar si existe algun valor nulo\n",
    "print('DataFrame hypotheses:')\n",
    "print(hypotheses.isnull().sum())\n",
    "print('-'*50)\n",
    "print('DataFrame orders:')\n",
    "print(orders.isnull().sum())\n",
    "print('-'*50)\n",
    "print('DataFrame visits:')\n",
    "print(visits.isnull().sum())"
   ]
  },
  {
   "cell_type": "code",
   "execution_count": 306,
   "metadata": {},
   "outputs": [
    {
     "name": "stdout",
     "output_type": "stream",
     "text": [
      "Valores duplicados en hypotheses: 0\n",
      "--------------------------------------------------\n",
      "Valores duplicados en orders: 0\n",
      "--------------------------------------------------\n",
      "Valores duplicados en visits: 0\n"
     ]
    }
   ],
   "source": [
    "# Analizar si existe algun valor duplicado\n",
    "print('Valores duplicados en hypotheses:', hypotheses.duplicated().sum())\n",
    "print('-'*50)\n",
    "print('Valores duplicados en orders:', orders.duplicated().sum())\n",
    "print('-'*50)\n",
    "print('Valores duplicados en visits:', visits.duplicated().sum())"
   ]
  },
  {
   "cell_type": "code",
   "execution_count": 307,
   "metadata": {},
   "outputs": [
    {
     "name": "stdout",
     "output_type": "stream",
     "text": [
      "DataFrame hypotheses:\n",
      "Hypothesis    9\n",
      "Reach         6\n",
      "Impact        7\n",
      "Confidence    7\n",
      "Effort        6\n",
      "dtype: int64\n",
      "--------------------------------------------------\n",
      "DataFrame orders:\n",
      "transactionId    1197\n",
      "visitorId        1031\n",
      "date               31\n",
      "revenue           403\n",
      "group               2\n",
      "dtype: int64\n",
      "--------------------------------------------------\n",
      "DataFrame visits:\n",
      "date      31\n",
      "group      2\n",
      "visits    58\n",
      "dtype: int64\n"
     ]
    }
   ],
   "source": [
    "# Analizar los valores unicos\n",
    "print('DataFrame hypotheses:')\n",
    "print(hypotheses.nunique())\n",
    "print('-'*50)\n",
    "print('DataFrame orders:')\n",
    "print(orders.nunique())\n",
    "print('-'*50)\n",
    "print('DataFrame visits:')\n",
    "print(visits.nunique())"
   ]
  },
  {
   "cell_type": "code",
   "execution_count": 308,
   "metadata": {},
   "outputs": [
    {
     "name": "stdout",
     "output_type": "stream",
     "text": [
      "DataFrame hypotheses:\n"
     ]
    },
    {
     "data": {
      "text/html": [
       "<div>\n",
       "<style scoped>\n",
       "    .dataframe tbody tr th:only-of-type {\n",
       "        vertical-align: middle;\n",
       "    }\n",
       "\n",
       "    .dataframe tbody tr th {\n",
       "        vertical-align: top;\n",
       "    }\n",
       "\n",
       "    .dataframe thead th {\n",
       "        text-align: right;\n",
       "    }\n",
       "</style>\n",
       "<table border=\"1\" class=\"dataframe\">\n",
       "  <thead>\n",
       "    <tr style=\"text-align: right;\">\n",
       "      <th></th>\n",
       "      <th>Hypothesis</th>\n",
       "      <th>Reach</th>\n",
       "      <th>Impact</th>\n",
       "      <th>Confidence</th>\n",
       "      <th>Effort</th>\n",
       "    </tr>\n",
       "  </thead>\n",
       "  <tbody>\n",
       "    <tr>\n",
       "      <th>0</th>\n",
       "      <td>Add two new channels for attracting traffic. This will bring 30% more users</td>\n",
       "      <td>3</td>\n",
       "      <td>10</td>\n",
       "      <td>8</td>\n",
       "      <td>6</td>\n",
       "    </tr>\n",
       "    <tr>\n",
       "      <th>1</th>\n",
       "      <td>Launch your own delivery service. This will shorten delivery time</td>\n",
       "      <td>2</td>\n",
       "      <td>5</td>\n",
       "      <td>4</td>\n",
       "      <td>10</td>\n",
       "    </tr>\n",
       "    <tr>\n",
       "      <th>2</th>\n",
       "      <td>Add product recommendation blocks to the store's site. This will increase conversion and average purchase size</td>\n",
       "      <td>8</td>\n",
       "      <td>3</td>\n",
       "      <td>7</td>\n",
       "      <td>3</td>\n",
       "    </tr>\n",
       "    <tr>\n",
       "      <th>3</th>\n",
       "      <td>Change the category structure. This will increase conversion since users will find the products they want more quickly</td>\n",
       "      <td>8</td>\n",
       "      <td>3</td>\n",
       "      <td>3</td>\n",
       "      <td>8</td>\n",
       "    </tr>\n",
       "    <tr>\n",
       "      <th>4</th>\n",
       "      <td>Change the background color on the main page. This will increase user engagement</td>\n",
       "      <td>3</td>\n",
       "      <td>1</td>\n",
       "      <td>1</td>\n",
       "      <td>1</td>\n",
       "    </tr>\n",
       "    <tr>\n",
       "      <th>5</th>\n",
       "      <td>Add a customer review page. This will increase the number of orders</td>\n",
       "      <td>3</td>\n",
       "      <td>2</td>\n",
       "      <td>2</td>\n",
       "      <td>3</td>\n",
       "    </tr>\n",
       "    <tr>\n",
       "      <th>6</th>\n",
       "      <td>Show banners with current offers and sales on the main page. This will boost conversion</td>\n",
       "      <td>5</td>\n",
       "      <td>3</td>\n",
       "      <td>8</td>\n",
       "      <td>3</td>\n",
       "    </tr>\n",
       "    <tr>\n",
       "      <th>7</th>\n",
       "      <td>Add a subscription form to all the main pages. This will help you compile a mailing list</td>\n",
       "      <td>10</td>\n",
       "      <td>7</td>\n",
       "      <td>8</td>\n",
       "      <td>5</td>\n",
       "    </tr>\n",
       "    <tr>\n",
       "      <th>8</th>\n",
       "      <td>Launch a promotion that gives users discounts on their birthdays</td>\n",
       "      <td>1</td>\n",
       "      <td>9</td>\n",
       "      <td>9</td>\n",
       "      <td>5</td>\n",
       "    </tr>\n",
       "  </tbody>\n",
       "</table>\n",
       "</div>"
      ],
      "text/plain": [
       "                                                                                                               Hypothesis  \\\n",
       "0                                             Add two new channels for attracting traffic. This will bring 30% more users   \n",
       "1                                                       Launch your own delivery service. This will shorten delivery time   \n",
       "2          Add product recommendation blocks to the store's site. This will increase conversion and average purchase size   \n",
       "3  Change the category structure. This will increase conversion since users will find the products they want more quickly   \n",
       "4                                        Change the background color on the main page. This will increase user engagement   \n",
       "5                                                     Add a customer review page. This will increase the number of orders   \n",
       "6                                 Show banners with current offers and sales on the main page. This will boost conversion   \n",
       "7                                Add a subscription form to all the main pages. This will help you compile a mailing list   \n",
       "8                                                        Launch a promotion that gives users discounts on their birthdays   \n",
       "\n",
       "   Reach  Impact  Confidence  Effort  \n",
       "0      3      10           8       6  \n",
       "1      2       5           4      10  \n",
       "2      8       3           7       3  \n",
       "3      8       3           3       8  \n",
       "4      3       1           1       1  \n",
       "5      3       2           2       3  \n",
       "6      5       3           8       3  \n",
       "7     10       7           8       5  \n",
       "8      1       9           9       5  "
      ]
     },
     "metadata": {},
     "output_type": "display_data"
    },
    {
     "name": "stdout",
     "output_type": "stream",
     "text": [
      "DataFrame orders:\n"
     ]
    },
    {
     "data": {
      "text/html": [
       "<div>\n",
       "<style scoped>\n",
       "    .dataframe tbody tr th:only-of-type {\n",
       "        vertical-align: middle;\n",
       "    }\n",
       "\n",
       "    .dataframe tbody tr th {\n",
       "        vertical-align: top;\n",
       "    }\n",
       "\n",
       "    .dataframe thead th {\n",
       "        text-align: right;\n",
       "    }\n",
       "</style>\n",
       "<table border=\"1\" class=\"dataframe\">\n",
       "  <thead>\n",
       "    <tr style=\"text-align: right;\">\n",
       "      <th></th>\n",
       "      <th>transactionId</th>\n",
       "      <th>visitorId</th>\n",
       "      <th>date</th>\n",
       "      <th>revenue</th>\n",
       "      <th>group</th>\n",
       "    </tr>\n",
       "  </thead>\n",
       "  <tbody>\n",
       "    <tr>\n",
       "      <th>0</th>\n",
       "      <td>3667963787</td>\n",
       "      <td>3312258926</td>\n",
       "      <td>2019-08-15</td>\n",
       "      <td>30.4</td>\n",
       "      <td>B</td>\n",
       "    </tr>\n",
       "    <tr>\n",
       "      <th>1</th>\n",
       "      <td>2804400009</td>\n",
       "      <td>3642806036</td>\n",
       "      <td>2019-08-15</td>\n",
       "      <td>15.2</td>\n",
       "      <td>B</td>\n",
       "    </tr>\n",
       "    <tr>\n",
       "      <th>2</th>\n",
       "      <td>2961555356</td>\n",
       "      <td>4069496402</td>\n",
       "      <td>2019-08-15</td>\n",
       "      <td>10.2</td>\n",
       "      <td>A</td>\n",
       "    </tr>\n",
       "    <tr>\n",
       "      <th>3</th>\n",
       "      <td>3797467345</td>\n",
       "      <td>1196621759</td>\n",
       "      <td>2019-08-15</td>\n",
       "      <td>155.1</td>\n",
       "      <td>B</td>\n",
       "    </tr>\n",
       "    <tr>\n",
       "      <th>4</th>\n",
       "      <td>2282983706</td>\n",
       "      <td>2322279887</td>\n",
       "      <td>2019-08-15</td>\n",
       "      <td>40.5</td>\n",
       "      <td>B</td>\n",
       "    </tr>\n",
       "  </tbody>\n",
       "</table>\n",
       "</div>"
      ],
      "text/plain": [
       "   transactionId   visitorId        date  revenue group\n",
       "0     3667963787  3312258926  2019-08-15     30.4     B\n",
       "1     2804400009  3642806036  2019-08-15     15.2     B\n",
       "2     2961555356  4069496402  2019-08-15     10.2     A\n",
       "3     3797467345  1196621759  2019-08-15    155.1     B\n",
       "4     2282983706  2322279887  2019-08-15     40.5     B"
      ]
     },
     "metadata": {},
     "output_type": "display_data"
    },
    {
     "name": "stdout",
     "output_type": "stream",
     "text": [
      "DataFrame visits:\n"
     ]
    },
    {
     "data": {
      "text/html": [
       "<div>\n",
       "<style scoped>\n",
       "    .dataframe tbody tr th:only-of-type {\n",
       "        vertical-align: middle;\n",
       "    }\n",
       "\n",
       "    .dataframe tbody tr th {\n",
       "        vertical-align: top;\n",
       "    }\n",
       "\n",
       "    .dataframe thead th {\n",
       "        text-align: right;\n",
       "    }\n",
       "</style>\n",
       "<table border=\"1\" class=\"dataframe\">\n",
       "  <thead>\n",
       "    <tr style=\"text-align: right;\">\n",
       "      <th></th>\n",
       "      <th>date</th>\n",
       "      <th>group</th>\n",
       "      <th>visits</th>\n",
       "    </tr>\n",
       "  </thead>\n",
       "  <tbody>\n",
       "    <tr>\n",
       "      <th>0</th>\n",
       "      <td>2019-08-01</td>\n",
       "      <td>A</td>\n",
       "      <td>719</td>\n",
       "    </tr>\n",
       "    <tr>\n",
       "      <th>1</th>\n",
       "      <td>2019-08-02</td>\n",
       "      <td>A</td>\n",
       "      <td>619</td>\n",
       "    </tr>\n",
       "    <tr>\n",
       "      <th>2</th>\n",
       "      <td>2019-08-03</td>\n",
       "      <td>A</td>\n",
       "      <td>507</td>\n",
       "    </tr>\n",
       "    <tr>\n",
       "      <th>3</th>\n",
       "      <td>2019-08-04</td>\n",
       "      <td>A</td>\n",
       "      <td>717</td>\n",
       "    </tr>\n",
       "    <tr>\n",
       "      <th>4</th>\n",
       "      <td>2019-08-05</td>\n",
       "      <td>A</td>\n",
       "      <td>756</td>\n",
       "    </tr>\n",
       "  </tbody>\n",
       "</table>\n",
       "</div>"
      ],
      "text/plain": [
       "         date group  visits\n",
       "0  2019-08-01     A     719\n",
       "1  2019-08-02     A     619\n",
       "2  2019-08-03     A     507\n",
       "3  2019-08-04     A     717\n",
       "4  2019-08-05     A     756"
      ]
     },
     "metadata": {},
     "output_type": "display_data"
    }
   ],
   "source": [
    "# Mostrar los datos\n",
    "print('DataFrame hypotheses:')\n",
    "display(hypotheses)\n",
    "print('DataFrame orders:')\n",
    "display(orders.head())\n",
    "print('DataFrame visits:')\n",
    "display(visits.head())"
   ]
  },
  {
   "cell_type": "markdown",
   "metadata": {},
   "source": [
    "### Observaciones\n",
    "\n",
    "  - El DataFrame `hypotheses` y `orders` contienen en su columnas algunas mayusculas por lo que haremos el cambio a minusculas.\n",
    "  - En el Dataframe `orders` observamos que los valores unicos de la columna `visitorId` solo hay *1031* valores unicos debiendo ser *1197*, esto nos indica que existen valores duplicados implicitos los cuales pueden afectar nuestro analisis de hipotesis mas adelante.\n",
    "  - Cambiar los tipos de datos de algunas columnas en los DataFrames `orders` y `visits`"
   ]
  },
  {
   "cell_type": "code",
   "execution_count": 309,
   "metadata": {},
   "outputs": [
    {
     "data": {
      "text/plain": [
       "count     557.000000\n",
       "mean      115.897487\n",
       "std       182.358918\n",
       "min         5.000000\n",
       "25%        20.400000\n",
       "50%        50.100000\n",
       "75%       130.500000\n",
       "max      1450.200000\n",
       "Name: revenue, dtype: float64"
      ]
     },
     "execution_count": 309,
     "metadata": {},
     "output_type": "execute_result"
    }
   ],
   "source": [
    "# Estadiaticos descriptivos del grupo A en orders\n",
    "orders[orders['group'] == 'A']['revenue'].describe()"
   ]
  },
  {
   "cell_type": "code",
   "execution_count": 310,
   "metadata": {},
   "outputs": [
    {
     "data": {
      "text/plain": [
       "count      640.000000\n",
       "mean       145.063438\n",
       "std        806.992326\n",
       "min          5.100000\n",
       "25%         24.050000\n",
       "50%         50.350000\n",
       "75%        130.225000\n",
       "max      19920.400000\n",
       "Name: revenue, dtype: float64"
      ]
     },
     "execution_count": 310,
     "metadata": {},
     "output_type": "execute_result"
    }
   ],
   "source": [
    "# Estadiaticos descriptivos del grupo B en orders\n",
    "orders[orders['group'] == 'B']['revenue'].describe()"
   ]
  },
  {
   "cell_type": "markdown",
   "metadata": {},
   "source": [
    "El grupo **B**; el grupo de muestra, tiene en comparacion al grupo **A**; el grupo de control:\n",
    "  - Un promedio más alto (**145.06** en comparación con **115.89**)\n",
    "  - Una mediana similar (**50.34** en comparación con **50.10**) "
   ]
  },
  {
   "cell_type": "code",
   "execution_count": 311,
   "metadata": {},
   "outputs": [
    {
     "data": {
      "text/plain": [
       "count     31.000000\n",
       "mean     604.387097\n",
       "std      112.396227\n",
       "min      361.000000\n",
       "25%      541.000000\n",
       "50%      619.000000\n",
       "75%      705.000000\n",
       "max      756.000000\n",
       "Name: visits, dtype: float64"
      ]
     },
     "execution_count": 311,
     "metadata": {},
     "output_type": "execute_result"
    }
   ],
   "source": [
    "# Estadiaticos descriptivos del grupo A en visits\n",
    "visits[visits['group'] == 'A']['visits'].describe()"
   ]
  },
  {
   "cell_type": "code",
   "execution_count": 312,
   "metadata": {},
   "outputs": [
    {
     "data": {
      "text/plain": [
       "count     31.000000\n",
       "mean     610.193548\n",
       "std      118.156230\n",
       "min      369.000000\n",
       "25%      537.000000\n",
       "50%      654.000000\n",
       "75%      711.000000\n",
       "max      770.000000\n",
       "Name: visits, dtype: float64"
      ]
     },
     "execution_count": 312,
     "metadata": {},
     "output_type": "execute_result"
    }
   ],
   "source": [
    "# Estadiaticos descriptivos del grupo B en visits\n",
    "visits[visits['group'] == 'B']['visits'].describe()"
   ]
  },
  {
   "cell_type": "markdown",
   "metadata": {},
   "source": [
    "El grupo **B**; el grupo de muestra, tiene en comparacion al grupo **A**; el grupo de control:\n",
    "  - Un promedio más alto de visitantes (**610** en comparación con **604**)\n",
    "  - Una mediana más alta de visitantes (**654** en comparación con **619**)"
   ]
  },
  {
   "cell_type": "markdown",
   "metadata": {},
   "source": [
    "## Modificar Columnas de los DataFrames"
   ]
  },
  {
   "cell_type": "code",
   "execution_count": 313,
   "metadata": {},
   "outputs": [],
   "source": [
    "# Renombrar columnas del DataFrame hypotheses\n",
    "hypotheses.columns = hypotheses.columns.str.lower()\n",
    "# Renombrar columnas del DataFrame orders\n",
    "orders.columns = ['transaction_id', 'visitor_id', 'date', 'revenue', 'group']\n",
    "# Convertir la columna date de orders a tipo datetime\n",
    "orders['date'] = orders['date'].map(lambda x: dt.datetime.strptime(x, '%Y-%m-%d'))\n",
    "# Convertir la columna date de visits a tipo datetime\n",
    "visits['date'] = visits['date'].map(lambda x: dt.datetime.strptime(x, '%Y-%m-%d'))"
   ]
  },
  {
   "cell_type": "code",
   "execution_count": 314,
   "metadata": {},
   "outputs": [
    {
     "name": "stdout",
     "output_type": "stream",
     "text": [
      "DataFrame hypotheses:\n",
      "<class 'pandas.core.frame.DataFrame'>\n",
      "RangeIndex: 9 entries, 0 to 8\n",
      "Data columns (total 5 columns):\n",
      " #   Column      Non-Null Count  Dtype \n",
      "---  ------      --------------  ----- \n",
      " 0   hypothesis  9 non-null      object\n",
      " 1   reach       9 non-null      int64 \n",
      " 2   impact      9 non-null      int64 \n",
      " 3   confidence  9 non-null      int64 \n",
      " 4   effort      9 non-null      int64 \n",
      "dtypes: int64(4), object(1)\n",
      "memory usage: 492.0+ bytes\n",
      "None\n",
      "--------------------------------------------------\n",
      "DataFrame orders:\n",
      "<class 'pandas.core.frame.DataFrame'>\n",
      "RangeIndex: 1197 entries, 0 to 1196\n",
      "Data columns (total 5 columns):\n",
      " #   Column          Non-Null Count  Dtype         \n",
      "---  ------          --------------  -----         \n",
      " 0   transaction_id  1197 non-null   int64         \n",
      " 1   visitor_id      1197 non-null   int64         \n",
      " 2   date            1197 non-null   datetime64[ns]\n",
      " 3   revenue         1197 non-null   float64       \n",
      " 4   group           1197 non-null   object        \n",
      "dtypes: datetime64[ns](1), float64(1), int64(2), object(1)\n",
      "memory usage: 46.9+ KB\n",
      "None\n",
      "--------------------------------------------------\n",
      "DataFrame visits:\n",
      "<class 'pandas.core.frame.DataFrame'>\n",
      "RangeIndex: 62 entries, 0 to 61\n",
      "Data columns (total 3 columns):\n",
      " #   Column  Non-Null Count  Dtype         \n",
      "---  ------  --------------  -----         \n",
      " 0   date    62 non-null     datetime64[ns]\n",
      " 1   group   62 non-null     object        \n",
      " 2   visits  62 non-null     int64         \n",
      "dtypes: datetime64[ns](1), int64(1), object(1)\n",
      "memory usage: 1.6+ KB\n",
      "None\n"
     ]
    }
   ],
   "source": [
    "# Verificar los cambios\n",
    "print('DataFrame hypotheses:')\n",
    "print(hypotheses.info())\n",
    "print('-'*50)\n",
    "print('DataFrame orders:')\n",
    "print(orders.info())\n",
    "print('-'*50)\n",
    "print('DataFrame visits:')\n",
    "print(visits.info())"
   ]
  },
  {
   "cell_type": "markdown",
   "metadata": {},
   "source": [
    "## Buscar valores duplicados implicitos"
   ]
  },
  {
   "cell_type": "code",
   "execution_count": 315,
   "metadata": {},
   "outputs": [
    {
     "data": {
      "text/html": [
       "<div>\n",
       "<style scoped>\n",
       "    .dataframe tbody tr th:only-of-type {\n",
       "        vertical-align: middle;\n",
       "    }\n",
       "\n",
       "    .dataframe tbody tr th {\n",
       "        vertical-align: top;\n",
       "    }\n",
       "\n",
       "    .dataframe thead th {\n",
       "        text-align: right;\n",
       "    }\n",
       "</style>\n",
       "<table border=\"1\" class=\"dataframe\">\n",
       "  <thead>\n",
       "    <tr style=\"text-align: right;\">\n",
       "      <th></th>\n",
       "      <th>visitor_id</th>\n",
       "      <th>transaction_id</th>\n",
       "      <th>date</th>\n",
       "      <th>revenue</th>\n",
       "      <th>group</th>\n",
       "    </tr>\n",
       "  </thead>\n",
       "  <tbody>\n",
       "    <tr>\n",
       "      <th>0</th>\n",
       "      <td>8300375</td>\n",
       "      <td>2</td>\n",
       "      <td>2</td>\n",
       "      <td>2</td>\n",
       "      <td>2</td>\n",
       "    </tr>\n",
       "    <tr>\n",
       "      <th>1</th>\n",
       "      <td>199603092</td>\n",
       "      <td>5</td>\n",
       "      <td>5</td>\n",
       "      <td>4</td>\n",
       "      <td>2</td>\n",
       "    </tr>\n",
       "    <tr>\n",
       "      <th>2</th>\n",
       "      <td>232979603</td>\n",
       "      <td>2</td>\n",
       "      <td>1</td>\n",
       "      <td>2</td>\n",
       "      <td>2</td>\n",
       "    </tr>\n",
       "    <tr>\n",
       "      <th>3</th>\n",
       "      <td>237748145</td>\n",
       "      <td>5</td>\n",
       "      <td>4</td>\n",
       "      <td>3</td>\n",
       "      <td>2</td>\n",
       "    </tr>\n",
       "    <tr>\n",
       "      <th>4</th>\n",
       "      <td>276558944</td>\n",
       "      <td>2</td>\n",
       "      <td>2</td>\n",
       "      <td>2</td>\n",
       "      <td>2</td>\n",
       "    </tr>\n",
       "  </tbody>\n",
       "</table>\n",
       "</div>"
      ],
      "text/plain": [
       "   visitor_id  transaction_id  date  revenue  group\n",
       "0     8300375               2     2        2      2\n",
       "1   199603092               5     5        4      2\n",
       "2   232979603               2     1        2      2\n",
       "3   237748145               5     4        3      2\n",
       "4   276558944               2     2        2      2"
      ]
     },
     "metadata": {},
     "output_type": "display_data"
    },
    {
     "name": "stdout",
     "output_type": "stream",
     "text": [
      "<class 'pandas.core.frame.DataFrame'>\n",
      "RangeIndex: 58 entries, 0 to 57\n",
      "Data columns (total 5 columns):\n",
      " #   Column          Non-Null Count  Dtype\n",
      "---  ------          --------------  -----\n",
      " 0   visitor_id      58 non-null     int64\n",
      " 1   transaction_id  58 non-null     int64\n",
      " 2   date            58 non-null     int64\n",
      " 3   revenue         58 non-null     int64\n",
      " 4   group           58 non-null     int64\n",
      "dtypes: int64(5)\n",
      "memory usage: 2.4 KB\n"
     ]
    }
   ],
   "source": [
    "# DataFrame con los duplicados de orders\n",
    "orders_duplicates = orders.groupby('visitor_id').nunique()\n",
    "orders_duplicates = orders_duplicates[orders_duplicates['group'] > 1]\n",
    "orders_duplicates = orders_duplicates.reset_index()\n",
    "\n",
    "display(orders_duplicates.head())\n",
    "orders_duplicates.info()"
   ]
  },
  {
   "cell_type": "markdown",
   "metadata": {},
   "source": [
    "### Observaciones:\n",
    "\n",
    "Durante la preparación, se nos advirtió que existe la posibilidad de que un usuario esté incluido en ambos grupos. Recuerda que uno de los criterios para pruebas A/B efectivas es:\n",
    "\n",
    "- El usuario debe permanecer en su grupo hasta el final de la prueba. Si un usuario ve una versión diferente de una página web durante el proceso de prueba, la versión utilizada para la toma de decisiones será poco clara y la credibilidad de los resultados de la investigación se verá amenazada.\n",
    "\n",
    "Por lo tanto, debemos eliminar las filas con los usuarios que existan en ambos grupos."
   ]
  },
  {
   "cell_type": "code",
   "execution_count": 316,
   "metadata": {},
   "outputs": [
    {
     "name": "stdout",
     "output_type": "stream",
     "text": [
      "Numero de suarios que estan en ambos grupos: 58\n"
     ]
    }
   ],
   "source": [
    "# DataFrame con los duplicados de visits\n",
    "visitor_idA = orders[orders['group'] == 'A']['visitor_id'].drop_duplicates()\n",
    "visitor_idB = orders[orders['group'] == 'B']['visitor_id'].drop_duplicates()\n",
    "\n",
    "# Usuarios que estan en ambos grupos\n",
    "visitor_id = visitor_idA[visitor_idA.isin(visitor_idB)]\n",
    "\n",
    "print('Numero de suarios que estan en ambos grupos:' , len(visitor_id))"
   ]
  },
  {
   "cell_type": "code",
   "execution_count": 317,
   "metadata": {},
   "outputs": [
    {
     "name": "stdout",
     "output_type": "stream",
     "text": [
      "<class 'pandas.core.frame.DataFrame'>\n",
      "Index: 1016 entries, 0 to 1196\n",
      "Data columns (total 5 columns):\n",
      " #   Column          Non-Null Count  Dtype         \n",
      "---  ------          --------------  -----         \n",
      " 0   transaction_id  1016 non-null   int64         \n",
      " 1   visitor_id      1016 non-null   int64         \n",
      " 2   date            1016 non-null   datetime64[ns]\n",
      " 3   revenue         1016 non-null   float64       \n",
      " 4   group           1016 non-null   object        \n",
      "dtypes: datetime64[ns](1), float64(1), int64(2), object(1)\n",
      "memory usage: 47.6+ KB\n"
     ]
    }
   ],
   "source": [
    "# Eliminar los usuarios que estan en ambos grupos\n",
    "orders = orders[~orders['visitor_id'].isin(visitor_id)]\n",
    "\n",
    "orders.info()"
   ]
  },
  {
   "cell_type": "markdown",
   "metadata": {},
   "source": [
    "Hemos eliminado **181 filas** de **58 usuarios** que existían en ambos grupos. Vamos a comprobar si el código que creamos está funcionando correctamente."
   ]
  },
  {
   "cell_type": "code",
   "execution_count": 318,
   "metadata": {},
   "outputs": [
    {
     "name": "stdout",
     "output_type": "stream",
     "text": [
      "Numero de suarios que estan en ambos grupos: 0\n"
     ]
    }
   ],
   "source": [
    "visitFiltered_A = orders[orders['group'] == 'A']['visitor_id'].drop_duplicates()\n",
    "visitFiltered_B = orders[orders['group'] == 'B']['visitor_id'].drop_duplicates()\n",
    "\n",
    "visitFiltered = visitFiltered_A[visitFiltered_A.isin(visitFiltered_B)]\n",
    "\n",
    "print('Numero de suarios que estan en ambos grupos:' , len(visitFiltered))"
   ]
  },
  {
   "cell_type": "markdown",
   "metadata": {},
   "source": [
    "# **Parte 1.** Priorizar hipótesis"
   ]
  },
  {
   "cell_type": "markdown",
   "metadata": {},
   "source": [
    "## Aplicar el framework `ICE`"
   ]
  },
  {
   "cell_type": "markdown",
   "metadata": {},
   "source": [
    "Para aplicar el framework `ICE` se puede aplicar las siguientes operaciones:"
   ]
  },
  {
   "cell_type": "markdown",
   "metadata": {},
   "source": [
    "$$\n",
    "\\begin{align}\n",
    "ICE &= Impact\\times Confidence\\times Ease\\\\\n",
    "\\\\\n",
    "ICE &= \\frac{Impact\\times Confidence}{Effort}\n",
    "\\end{align}\n",
    "$$"
   ]
  },
  {
   "cell_type": "markdown",
   "metadata": {},
   "source": [
    "Dado que no tenemos Ease (Facilidad) en nuestro DataFrame utilizaremos la segunda ecuacion"
   ]
  },
  {
   "cell_type": "code",
   "execution_count": 319,
   "metadata": {},
   "outputs": [
    {
     "data": {
      "text/html": [
       "<div>\n",
       "<style scoped>\n",
       "    .dataframe tbody tr th:only-of-type {\n",
       "        vertical-align: middle;\n",
       "    }\n",
       "\n",
       "    .dataframe tbody tr th {\n",
       "        vertical-align: top;\n",
       "    }\n",
       "\n",
       "    .dataframe thead th {\n",
       "        text-align: right;\n",
       "    }\n",
       "</style>\n",
       "<table border=\"1\" class=\"dataframe\">\n",
       "  <thead>\n",
       "    <tr style=\"text-align: right;\">\n",
       "      <th></th>\n",
       "      <th>hypothesis</th>\n",
       "      <th>reach</th>\n",
       "      <th>impact</th>\n",
       "      <th>confidence</th>\n",
       "      <th>effort</th>\n",
       "      <th>ICE</th>\n",
       "    </tr>\n",
       "  </thead>\n",
       "  <tbody>\n",
       "    <tr>\n",
       "      <th>8</th>\n",
       "      <td>Launch a promotion that gives users discounts on their birthdays</td>\n",
       "      <td>1</td>\n",
       "      <td>9</td>\n",
       "      <td>9</td>\n",
       "      <td>5</td>\n",
       "      <td>16.200000</td>\n",
       "    </tr>\n",
       "    <tr>\n",
       "      <th>0</th>\n",
       "      <td>Add two new channels for attracting traffic. This will bring 30% more users</td>\n",
       "      <td>3</td>\n",
       "      <td>10</td>\n",
       "      <td>8</td>\n",
       "      <td>6</td>\n",
       "      <td>13.333333</td>\n",
       "    </tr>\n",
       "    <tr>\n",
       "      <th>7</th>\n",
       "      <td>Add a subscription form to all the main pages. This will help you compile a mailing list</td>\n",
       "      <td>10</td>\n",
       "      <td>7</td>\n",
       "      <td>8</td>\n",
       "      <td>5</td>\n",
       "      <td>11.200000</td>\n",
       "    </tr>\n",
       "    <tr>\n",
       "      <th>6</th>\n",
       "      <td>Show banners with current offers and sales on the main page. This will boost conversion</td>\n",
       "      <td>5</td>\n",
       "      <td>3</td>\n",
       "      <td>8</td>\n",
       "      <td>3</td>\n",
       "      <td>8.000000</td>\n",
       "    </tr>\n",
       "    <tr>\n",
       "      <th>2</th>\n",
       "      <td>Add product recommendation blocks to the store's site. This will increase conversion and average purchase size</td>\n",
       "      <td>8</td>\n",
       "      <td>3</td>\n",
       "      <td>7</td>\n",
       "      <td>3</td>\n",
       "      <td>7.000000</td>\n",
       "    </tr>\n",
       "    <tr>\n",
       "      <th>1</th>\n",
       "      <td>Launch your own delivery service. This will shorten delivery time</td>\n",
       "      <td>2</td>\n",
       "      <td>5</td>\n",
       "      <td>4</td>\n",
       "      <td>10</td>\n",
       "      <td>2.000000</td>\n",
       "    </tr>\n",
       "    <tr>\n",
       "      <th>5</th>\n",
       "      <td>Add a customer review page. This will increase the number of orders</td>\n",
       "      <td>3</td>\n",
       "      <td>2</td>\n",
       "      <td>2</td>\n",
       "      <td>3</td>\n",
       "      <td>1.333333</td>\n",
       "    </tr>\n",
       "    <tr>\n",
       "      <th>3</th>\n",
       "      <td>Change the category structure. This will increase conversion since users will find the products they want more quickly</td>\n",
       "      <td>8</td>\n",
       "      <td>3</td>\n",
       "      <td>3</td>\n",
       "      <td>8</td>\n",
       "      <td>1.125000</td>\n",
       "    </tr>\n",
       "    <tr>\n",
       "      <th>4</th>\n",
       "      <td>Change the background color on the main page. This will increase user engagement</td>\n",
       "      <td>3</td>\n",
       "      <td>1</td>\n",
       "      <td>1</td>\n",
       "      <td>1</td>\n",
       "      <td>1.000000</td>\n",
       "    </tr>\n",
       "  </tbody>\n",
       "</table>\n",
       "</div>"
      ],
      "text/plain": [
       "                                                                                                               hypothesis  \\\n",
       "8                                                        Launch a promotion that gives users discounts on their birthdays   \n",
       "0                                             Add two new channels for attracting traffic. This will bring 30% more users   \n",
       "7                                Add a subscription form to all the main pages. This will help you compile a mailing list   \n",
       "6                                 Show banners with current offers and sales on the main page. This will boost conversion   \n",
       "2          Add product recommendation blocks to the store's site. This will increase conversion and average purchase size   \n",
       "1                                                       Launch your own delivery service. This will shorten delivery time   \n",
       "5                                                     Add a customer review page. This will increase the number of orders   \n",
       "3  Change the category structure. This will increase conversion since users will find the products they want more quickly   \n",
       "4                                        Change the background color on the main page. This will increase user engagement   \n",
       "\n",
       "   reach  impact  confidence  effort        ICE  \n",
       "8      1       9           9       5  16.200000  \n",
       "0      3      10           8       6  13.333333  \n",
       "7     10       7           8       5  11.200000  \n",
       "6      5       3           8       3   8.000000  \n",
       "2      8       3           7       3   7.000000  \n",
       "1      2       5           4      10   2.000000  \n",
       "5      3       2           2       3   1.333333  \n",
       "3      8       3           3       8   1.125000  \n",
       "4      3       1           1       1   1.000000  "
      ]
     },
     "execution_count": 319,
     "metadata": {},
     "output_type": "execute_result"
    }
   ],
   "source": [
    "# Aplicar framework ICE\n",
    "hypotheses_ice = hypotheses.copy()\n",
    "hypotheses_ice['ICE'] = (hypotheses_ice['impact'] * hypotheses_ice['confidence']) / hypotheses_ice['effort']\n",
    "\n",
    "# Ordenar ICE en orden descendente\n",
    "hypotheses_ice = hypotheses_ice.sort_values(by='ICE', ascending=False)\n",
    "\n",
    "\n",
    "# Mostrar los datos\n",
    "pd.set_option('display.max_colwidth', None)\n",
    "hypotheses_ice"
   ]
  },
  {
   "cell_type": "markdown",
   "metadata": {},
   "source": [
    "## Aplicar el framework `RICE`"
   ]
  },
  {
   "cell_type": "markdown",
   "metadata": {},
   "source": [
    "Para aplicar el framework `RICE` se raliza la siguiente operacion:"
   ]
  },
  {
   "cell_type": "markdown",
   "metadata": {},
   "source": [
    "$$\n",
    "\\begin{align}\n",
    "RICE &= \\frac{Reach\\times Impact\\times Confidence}{Effort}\n",
    "\\end{align}\n",
    "$$"
   ]
  },
  {
   "cell_type": "code",
   "execution_count": 320,
   "metadata": {},
   "outputs": [
    {
     "data": {
      "text/html": [
       "<div>\n",
       "<style scoped>\n",
       "    .dataframe tbody tr th:only-of-type {\n",
       "        vertical-align: middle;\n",
       "    }\n",
       "\n",
       "    .dataframe tbody tr th {\n",
       "        vertical-align: top;\n",
       "    }\n",
       "\n",
       "    .dataframe thead th {\n",
       "        text-align: right;\n",
       "    }\n",
       "</style>\n",
       "<table border=\"1\" class=\"dataframe\">\n",
       "  <thead>\n",
       "    <tr style=\"text-align: right;\">\n",
       "      <th></th>\n",
       "      <th>hypothesis</th>\n",
       "      <th>reach</th>\n",
       "      <th>impact</th>\n",
       "      <th>confidence</th>\n",
       "      <th>effort</th>\n",
       "      <th>RICE</th>\n",
       "    </tr>\n",
       "  </thead>\n",
       "  <tbody>\n",
       "    <tr>\n",
       "      <th>7</th>\n",
       "      <td>Add a subscription form to all the main pages. This will help you compile a mailing list</td>\n",
       "      <td>10</td>\n",
       "      <td>7</td>\n",
       "      <td>8</td>\n",
       "      <td>5</td>\n",
       "      <td>112.0</td>\n",
       "    </tr>\n",
       "    <tr>\n",
       "      <th>2</th>\n",
       "      <td>Add product recommendation blocks to the store's site. This will increase conversion and average purchase size</td>\n",
       "      <td>8</td>\n",
       "      <td>3</td>\n",
       "      <td>7</td>\n",
       "      <td>3</td>\n",
       "      <td>56.0</td>\n",
       "    </tr>\n",
       "    <tr>\n",
       "      <th>0</th>\n",
       "      <td>Add two new channels for attracting traffic. This will bring 30% more users</td>\n",
       "      <td>3</td>\n",
       "      <td>10</td>\n",
       "      <td>8</td>\n",
       "      <td>6</td>\n",
       "      <td>40.0</td>\n",
       "    </tr>\n",
       "    <tr>\n",
       "      <th>6</th>\n",
       "      <td>Show banners with current offers and sales on the main page. This will boost conversion</td>\n",
       "      <td>5</td>\n",
       "      <td>3</td>\n",
       "      <td>8</td>\n",
       "      <td>3</td>\n",
       "      <td>40.0</td>\n",
       "    </tr>\n",
       "    <tr>\n",
       "      <th>8</th>\n",
       "      <td>Launch a promotion that gives users discounts on their birthdays</td>\n",
       "      <td>1</td>\n",
       "      <td>9</td>\n",
       "      <td>9</td>\n",
       "      <td>5</td>\n",
       "      <td>16.2</td>\n",
       "    </tr>\n",
       "    <tr>\n",
       "      <th>3</th>\n",
       "      <td>Change the category structure. This will increase conversion since users will find the products they want more quickly</td>\n",
       "      <td>8</td>\n",
       "      <td>3</td>\n",
       "      <td>3</td>\n",
       "      <td>8</td>\n",
       "      <td>9.0</td>\n",
       "    </tr>\n",
       "    <tr>\n",
       "      <th>1</th>\n",
       "      <td>Launch your own delivery service. This will shorten delivery time</td>\n",
       "      <td>2</td>\n",
       "      <td>5</td>\n",
       "      <td>4</td>\n",
       "      <td>10</td>\n",
       "      <td>4.0</td>\n",
       "    </tr>\n",
       "    <tr>\n",
       "      <th>5</th>\n",
       "      <td>Add a customer review page. This will increase the number of orders</td>\n",
       "      <td>3</td>\n",
       "      <td>2</td>\n",
       "      <td>2</td>\n",
       "      <td>3</td>\n",
       "      <td>4.0</td>\n",
       "    </tr>\n",
       "    <tr>\n",
       "      <th>4</th>\n",
       "      <td>Change the background color on the main page. This will increase user engagement</td>\n",
       "      <td>3</td>\n",
       "      <td>1</td>\n",
       "      <td>1</td>\n",
       "      <td>1</td>\n",
       "      <td>3.0</td>\n",
       "    </tr>\n",
       "  </tbody>\n",
       "</table>\n",
       "</div>"
      ],
      "text/plain": [
       "                                                                                                               hypothesis  \\\n",
       "7                                Add a subscription form to all the main pages. This will help you compile a mailing list   \n",
       "2          Add product recommendation blocks to the store's site. This will increase conversion and average purchase size   \n",
       "0                                             Add two new channels for attracting traffic. This will bring 30% more users   \n",
       "6                                 Show banners with current offers and sales on the main page. This will boost conversion   \n",
       "8                                                        Launch a promotion that gives users discounts on their birthdays   \n",
       "3  Change the category structure. This will increase conversion since users will find the products they want more quickly   \n",
       "1                                                       Launch your own delivery service. This will shorten delivery time   \n",
       "5                                                     Add a customer review page. This will increase the number of orders   \n",
       "4                                        Change the background color on the main page. This will increase user engagement   \n",
       "\n",
       "   reach  impact  confidence  effort   RICE  \n",
       "7     10       7           8       5  112.0  \n",
       "2      8       3           7       3   56.0  \n",
       "0      3      10           8       6   40.0  \n",
       "6      5       3           8       3   40.0  \n",
       "8      1       9           9       5   16.2  \n",
       "3      8       3           3       8    9.0  \n",
       "1      2       5           4      10    4.0  \n",
       "5      3       2           2       3    4.0  \n",
       "4      3       1           1       1    3.0  "
      ]
     },
     "execution_count": 320,
     "metadata": {},
     "output_type": "execute_result"
    }
   ],
   "source": [
    "# Aplicar framework RICE\n",
    "hypotheses_rice = hypotheses.copy()\n",
    "hypotheses_rice['RICE'] = (hypotheses_rice['reach'] * hypotheses_rice['impact'] * hypotheses_rice['confidence']) / hypotheses_rice['effort']\n",
    "\n",
    "# Ordenar RICE en orden descendente\n",
    "hypotheses_rice = hypotheses_rice.sort_values(by='RICE', ascending=False)\n",
    "\n",
    "# Mostrar los datos\n",
    "hypotheses_rice"
   ]
  },
  {
   "cell_type": "markdown",
   "metadata": {},
   "source": [
    "## Mostrar cómo cambia la priorización de hipótesis cuando utilizas `RICE` en lugar de `ICE`"
   ]
  },
  {
   "cell_type": "code",
   "execution_count": 321,
   "metadata": {},
   "outputs": [
    {
     "data": {
      "text/html": [
       "<div>\n",
       "<style scoped>\n",
       "    .dataframe tbody tr th:only-of-type {\n",
       "        vertical-align: middle;\n",
       "    }\n",
       "\n",
       "    .dataframe tbody tr th {\n",
       "        vertical-align: top;\n",
       "    }\n",
       "\n",
       "    .dataframe thead th {\n",
       "        text-align: right;\n",
       "    }\n",
       "</style>\n",
       "<table border=\"1\" class=\"dataframe\">\n",
       "  <thead>\n",
       "    <tr style=\"text-align: right;\">\n",
       "      <th></th>\n",
       "      <th>hypothesis</th>\n",
       "      <th>ICE</th>\n",
       "      <th>RICE</th>\n",
       "    </tr>\n",
       "  </thead>\n",
       "  <tbody>\n",
       "    <tr>\n",
       "      <th>0</th>\n",
       "      <td>Launch a promotion that gives users discounts on their birthdays</td>\n",
       "      <td>16.2</td>\n",
       "      <td>16.2</td>\n",
       "    </tr>\n",
       "    <tr>\n",
       "      <th>1</th>\n",
       "      <td>Add two new channels for attracting traffic. This will bring 30% more users</td>\n",
       "      <td>13.3</td>\n",
       "      <td>40.0</td>\n",
       "    </tr>\n",
       "    <tr>\n",
       "      <th>2</th>\n",
       "      <td>Add a subscription form to all the main pages. This will help you compile a mailing list</td>\n",
       "      <td>11.2</td>\n",
       "      <td>112.0</td>\n",
       "    </tr>\n",
       "    <tr>\n",
       "      <th>3</th>\n",
       "      <td>Show banners with current offers and sales on the main page. This will boost conversion</td>\n",
       "      <td>8.0</td>\n",
       "      <td>40.0</td>\n",
       "    </tr>\n",
       "    <tr>\n",
       "      <th>4</th>\n",
       "      <td>Add product recommendation blocks to the store's site. This will increase conversion and average purchase size</td>\n",
       "      <td>7.0</td>\n",
       "      <td>56.0</td>\n",
       "    </tr>\n",
       "    <tr>\n",
       "      <th>5</th>\n",
       "      <td>Launch your own delivery service. This will shorten delivery time</td>\n",
       "      <td>2.0</td>\n",
       "      <td>4.0</td>\n",
       "    </tr>\n",
       "    <tr>\n",
       "      <th>6</th>\n",
       "      <td>Add a customer review page. This will increase the number of orders</td>\n",
       "      <td>1.3</td>\n",
       "      <td>4.0</td>\n",
       "    </tr>\n",
       "    <tr>\n",
       "      <th>7</th>\n",
       "      <td>Change the category structure. This will increase conversion since users will find the products they want more quickly</td>\n",
       "      <td>1.1</td>\n",
       "      <td>9.0</td>\n",
       "    </tr>\n",
       "    <tr>\n",
       "      <th>8</th>\n",
       "      <td>Change the background color on the main page. This will increase user engagement</td>\n",
       "      <td>1.0</td>\n",
       "      <td>3.0</td>\n",
       "    </tr>\n",
       "  </tbody>\n",
       "</table>\n",
       "</div>"
      ],
      "text/plain": [
       "                                                                                                               hypothesis  \\\n",
       "0                                                        Launch a promotion that gives users discounts on their birthdays   \n",
       "1                                             Add two new channels for attracting traffic. This will bring 30% more users   \n",
       "2                                Add a subscription form to all the main pages. This will help you compile a mailing list   \n",
       "3                                 Show banners with current offers and sales on the main page. This will boost conversion   \n",
       "4          Add product recommendation blocks to the store's site. This will increase conversion and average purchase size   \n",
       "5                                                       Launch your own delivery service. This will shorten delivery time   \n",
       "6                                                     Add a customer review page. This will increase the number of orders   \n",
       "7  Change the category structure. This will increase conversion since users will find the products they want more quickly   \n",
       "8                                        Change the background color on the main page. This will increase user engagement   \n",
       "\n",
       "    ICE   RICE  \n",
       "0  16.2   16.2  \n",
       "1  13.3   40.0  \n",
       "2  11.2  112.0  \n",
       "3   8.0   40.0  \n",
       "4   7.0   56.0  \n",
       "5   2.0    4.0  \n",
       "6   1.3    4.0  \n",
       "7   1.1    9.0  \n",
       "8   1.0    3.0  "
      ]
     },
     "execution_count": 321,
     "metadata": {},
     "output_type": "execute_result"
    }
   ],
   "source": [
    "# Unir los DataFrames\n",
    "hypotheses_ice_rice = hypotheses_ice.merge(hypotheses_rice, on='hypothesis')\n",
    "hypotheses_ice_rice = hypotheses_ice_rice[['hypothesis', 'ICE', 'RICE']]\n",
    "hypotheses_ice_rice.round(1)"
   ]
  },
  {
   "cell_type": "markdown",
   "metadata": {},
   "source": [
    "De acuerdo a las sigueintes tablas podemos decir lo siguiente:\n",
    "\n",
    " - Promoción de descuentos en cumpleaños:  \n",
    "    - __ICE:__ 16.2  \n",
    "    - __RICE:__ 16.2  \n",
    "   Ambos marcos coinciden en este caso. La confianza es de 9; bastante alta y el esfuerzo es de 5, no es alto para implementarlo, podría ser una buena opción.  \n",
    "   \n",
    " - Agregar dos nuevos canales para atraer tráfico:  \n",
    "    - __ICE:__ 13.33  \n",
    "    - __RICE:__ 40.0  \n",
    "   Aquí vemos una diferencia significativa. RICE valora más esta idea debido a su alto alcance (traer un 30% más de usuarios).  \n",
    "   \n",
    " - Agregar un formulario de suscripción en todas las páginas principales:  \n",
    "    - __ICE:__ 11.2  \n",
    "    - __RICE:__ 112.0  \n",
    "   Nuevamente, RICE otorga más puntos debido al alto alcance (compilar una lista de correo).  \n",
    "\n",
    " - Mostrar banners con ofertas y descuentos en la página principal:  \n",
    "    - __ICE:__ 8.0  \n",
    "    - __RICE:__ 40.0  \n",
    "   RICE valora más esta idea debido a su impacto potencial en la conversión.  \n",
    "\n",
    " - Agregar bloques de recomendación de productos en el sitio de la tienda:  \n",
    "    - __ICE:__ 7.0  \n",
    "    - __RICE:__ 56.0  \n",
    "   RICE nuevamente otorga más puntos debido al alto impacto en la conversión y el tamaño promedio de compra.  \n",
    "\n",
    " - Lanzar tu propio servicio de entrega:  \n",
    "    - __ICE:__ 2.0  \n",
    "    - __RICE:__ 4.0  \n",
    "   Ambos marcos sugieren que esta idea tiene un impacto limitado.  \n",
    "\n",
    " - Agregar una página de reseñas de clientes:  \n",
    "    - __ICE:__ 1.33  \n",
    "    - __RICE:__ 4.0  \n",
    "   RICE valora más esta idea debido a su impacto en el número de pedidos.  \n",
    "\n",
    " - Cambiar la estructura de categorías:  \n",
    "    - __ICE:__ 1.125  \n",
    "    - __RICE:__ 9.0  \n",
    "   RICE nuevamente otorga más puntos debido a su impacto en la conversión.  \n",
    "\n",
    "En general, RICE tiende a valorar más las ideas con un alto alcance, mientras que ICE se enfoca en el impacto, la confianza y la facilidad de implementación. La elección entre ambos depende de tus objetivos y contexto específico. ¿Estás buscando ideas rápidas y fáciles de implementar o estás planificando a largo plazo?"
   ]
  },
  {
   "cell_type": "markdown",
   "metadata": {},
   "source": [
    "### Nuestras 3 mejores opciones en el framwork `ICE` son: \n",
    " - Promoción de descuentos en cumpleaños: _Alcance:_ 1, _Impacto:_ 9, _Confianza:_ 9, _Esfuerzo:_ 5\n",
    " - Agregar dos nuevos canales para atraer tráfico: _Alcance:_ 3, _Impacto:_ 10, _Confianza:_ 8, _Esfuerzo:_ 6\n",
    " - Agregar un formulario de suscripción en todas las páginas principales: _Alcance:_ 10, _Impacto:_ 8, _Confianza:_ 7, _Esfuerzo:_ 5"
   ]
  },
  {
   "cell_type": "markdown",
   "metadata": {},
   "source": [
    "### Nuestras 3 mejores opciones en el framwork `RICE` son: \n",
    " - Agregar un formulario de suscripción en todas las páginas principales: _Alcance:_ 10, _Impacto:_ 8, _Confianza:_ 7, _Esfuerzo:_ 5\n",
    " - Agregar bloques de recomendación de productos en el sitio de la tienda: _Alcance:_ 8, _Impacto:_ 3, _Confianza:_ 7, _Esfuerzo:_ 3\n",
    " - Agregar dos nuevos canales para atraer tráfico: _Alcance:_ 3, _Impacto:_ 10, _Confianza:_ 8, _Esfuerzo:_ 6"
   ]
  },
  {
   "cell_type": "markdown",
   "metadata": {},
   "source": [
    "#### Seleccion de hipotesis\n",
    "\n",
    "Como podemos observar algunas hipotesis en ambos frameworks se repiten pero haremos un analisis mas profundo:\n",
    "\n",
    " 1. La hipotesis con el `ICE` mas alto es la _Promocion de descuentos en cumpleaños_ la cual tiene un alcance muy bajo, el impacto y la confianza es alto y no requiere mucho esfuerzo, aun asi debido al alcance no la tomaria en cuenta.\n",
    " 2. Agregar dos nuevos canales para atrear trafico es la segunda opcion con el `ICE` mas alto y la tercera en `RICE` teniendo un alcance bajo, un impacto y confianza altos y un esfuerzo medio por lo que seria una buena opcion.\n",
    " 3. Agragar un forulario de suscripcion en todas las paginas principales es la 3 opcion en el framework `ICE` y la que tiene el `RICE` mas alto teniendo el mayor alcance, el impacto y la confianza no estan nada mal y requiere un esfuerzo medio, por lo que por ahora es nuestra mejor opcion.\n",
    " 4. Agregar bloques de recomendacion de productos en el sitio es la segunda opcion de acuerdo al `RICE` con un alcance alto, un impacto muy bajo una confianza alta y un esfuerzo bajo, debido al esfuerzo tambien seria una buena opcion. \n",
    " \n",
    "A pesar de que agregar un formulario de suscripcion tiene un mayor alcance y menor esfuerzo, me decanto por Agregar bloques de recomendación de productos en el sitio de la tienda, ya que tiene un buen alcance y un esfuerzo bajo."
   ]
  },
  {
   "cell_type": "markdown",
   "metadata": {},
   "source": [
    "# **Parte 2.** Análisis de test A/B"
   ]
  },
  {
   "cell_type": "markdown",
   "metadata": {},
   "source": [
    "## Representa gráficamente el ingreso acumulado por grupo."
   ]
  },
  {
   "cell_type": "code",
   "execution_count": 322,
   "metadata": {},
   "outputs": [
    {
     "data": {
      "text/html": [
       "<div>\n",
       "<style scoped>\n",
       "    .dataframe tbody tr th:only-of-type {\n",
       "        vertical-align: middle;\n",
       "    }\n",
       "\n",
       "    .dataframe tbody tr th {\n",
       "        vertical-align: top;\n",
       "    }\n",
       "\n",
       "    .dataframe thead th {\n",
       "        text-align: right;\n",
       "    }\n",
       "</style>\n",
       "<table border=\"1\" class=\"dataframe\">\n",
       "  <thead>\n",
       "    <tr style=\"text-align: right;\">\n",
       "      <th></th>\n",
       "      <th>date</th>\n",
       "      <th>group</th>\n",
       "    </tr>\n",
       "  </thead>\n",
       "  <tbody>\n",
       "    <tr>\n",
       "      <th>0</th>\n",
       "      <td>2019-08-15</td>\n",
       "      <td>B</td>\n",
       "    </tr>\n",
       "    <tr>\n",
       "      <th>7</th>\n",
       "      <td>2019-08-15</td>\n",
       "      <td>A</td>\n",
       "    </tr>\n",
       "    <tr>\n",
       "      <th>45</th>\n",
       "      <td>2019-08-16</td>\n",
       "      <td>A</td>\n",
       "    </tr>\n",
       "    <tr>\n",
       "      <th>47</th>\n",
       "      <td>2019-08-16</td>\n",
       "      <td>B</td>\n",
       "    </tr>\n",
       "    <tr>\n",
       "      <th>55</th>\n",
       "      <td>2019-08-01</td>\n",
       "      <td>A</td>\n",
       "    </tr>\n",
       "  </tbody>\n",
       "</table>\n",
       "</div>"
      ],
      "text/plain": [
       "         date group\n",
       "0  2019-08-15     B\n",
       "7  2019-08-15     A\n",
       "45 2019-08-16     A\n",
       "47 2019-08-16     B\n",
       "55 2019-08-01     A"
      ]
     },
     "execution_count": 322,
     "metadata": {},
     "output_type": "execute_result"
    }
   ],
   "source": [
    "# Matriz con valores únicos de parejas fecha-grupo\n",
    "datesGroups = orders[['date', 'group']].drop_duplicates()\n",
    "\n",
    "datesGroups.head()"
   ]
  },
  {
   "cell_type": "markdown",
   "metadata": {},
   "source": [
    "Vamos a recopilar datos diarios acumulativos agregados relacionados con pedidos en unos pocos pasos prácticos.\n",
    "\n",
    "1. **Obtener filas de la tabla de pedidos:**\n",
    "   En la primera parte del código, obtendremos las filas de la tabla de pedidos cuyas fechas sean menores o iguales a la fecha del elemento `datesGroups` y el grupo de prueba sea el mismo que en `datesGroups`.\n",
    "\n",
    "2. **Agregar valores:**\n",
    "   En la segunda parte, agregaremos los valores. Calcularemos el valor máximo de la fecha y el grupo para que podamos tener una columna en nuestra salida. Luego, encontraremos la cantidad única de pedidos y el ID de usuario, y calcularemos la cantidad promedio del monto de compra.\n",
    "\n",
    "Al juntar todo, obtendremos:\n"
   ]
  },
  {
   "cell_type": "code",
   "execution_count": 323,
   "metadata": {},
   "outputs": [
    {
     "data": {
      "text/html": [
       "<div>\n",
       "<style scoped>\n",
       "    .dataframe tbody tr th:only-of-type {\n",
       "        vertical-align: middle;\n",
       "    }\n",
       "\n",
       "    .dataframe tbody tr th {\n",
       "        vertical-align: top;\n",
       "    }\n",
       "\n",
       "    .dataframe thead th {\n",
       "        text-align: right;\n",
       "    }\n",
       "</style>\n",
       "<table border=\"1\" class=\"dataframe\">\n",
       "  <thead>\n",
       "    <tr style=\"text-align: right;\">\n",
       "      <th></th>\n",
       "      <th>date</th>\n",
       "      <th>group</th>\n",
       "      <th>transaction_id</th>\n",
       "      <th>visitor_id</th>\n",
       "      <th>revenue</th>\n",
       "    </tr>\n",
       "  </thead>\n",
       "  <tbody>\n",
       "    <tr>\n",
       "      <th>55</th>\n",
       "      <td>2019-08-01</td>\n",
       "      <td>A</td>\n",
       "      <td>23</td>\n",
       "      <td>19</td>\n",
       "      <td>2266.6</td>\n",
       "    </tr>\n",
       "    <tr>\n",
       "      <th>66</th>\n",
       "      <td>2019-08-01</td>\n",
       "      <td>B</td>\n",
       "      <td>17</td>\n",
       "      <td>17</td>\n",
       "      <td>967.2</td>\n",
       "    </tr>\n",
       "    <tr>\n",
       "      <th>175</th>\n",
       "      <td>2019-08-02</td>\n",
       "      <td>A</td>\n",
       "      <td>42</td>\n",
       "      <td>36</td>\n",
       "      <td>3734.9</td>\n",
       "    </tr>\n",
       "    <tr>\n",
       "      <th>173</th>\n",
       "      <td>2019-08-02</td>\n",
       "      <td>B</td>\n",
       "      <td>40</td>\n",
       "      <td>39</td>\n",
       "      <td>3535.3</td>\n",
       "    </tr>\n",
       "    <tr>\n",
       "      <th>291</th>\n",
       "      <td>2019-08-03</td>\n",
       "      <td>A</td>\n",
       "      <td>66</td>\n",
       "      <td>60</td>\n",
       "      <td>5550.1</td>\n",
       "    </tr>\n",
       "  </tbody>\n",
       "</table>\n",
       "</div>"
      ],
      "text/plain": [
       "          date group  transaction_id  visitor_id  revenue\n",
       "55  2019-08-01     A              23          19   2266.6\n",
       "66  2019-08-01     B              17          17    967.2\n",
       "175 2019-08-02     A              42          36   3734.9\n",
       "173 2019-08-02     B              40          39   3535.3\n",
       "291 2019-08-03     A              66          60   5550.1"
      ]
     },
     "execution_count": 323,
     "metadata": {},
     "output_type": "execute_result"
    }
   ],
   "source": [
    "# Datos diarios acumulados agregados sobre los pedidos\n",
    "ordersAggregated = (datesGroups\n",
    "                    .apply(lambda x: orders[np.logical_and(orders['date'] <= x['date'], orders['group'] == x['group'])]\n",
    "                    .agg({'date' : 'max', \n",
    "                          'group' : 'max', \n",
    "                          'transaction_id' : pd.Series.nunique, \n",
    "                          'visitor_id' : pd.Series.nunique, \n",
    "                          'revenue' : 'sum'}), axis=1)\n",
    "                    .sort_values(by=['date', 'group'])\n",
    "                   )\n",
    "\n",
    "ordersAggregated.head()"
   ]
  },
  {
   "cell_type": "markdown",
   "metadata": {},
   "source": [
    "Con este código, es como si hubiéramos estado calculando los resultados de nuestra prueba todos los días hasta la fecha actual y almacenándolos en las filas de la tabla `ordersAggregated`.\n",
    "\n",
    "Vamos a hacer algo parecido para obtener los datos diarios acumulados agregados sobre los visitantes:"
   ]
  },
  {
   "cell_type": "code",
   "execution_count": 324,
   "metadata": {},
   "outputs": [
    {
     "data": {
      "text/html": [
       "<div>\n",
       "<style scoped>\n",
       "    .dataframe tbody tr th:only-of-type {\n",
       "        vertical-align: middle;\n",
       "    }\n",
       "\n",
       "    .dataframe tbody tr th {\n",
       "        vertical-align: top;\n",
       "    }\n",
       "\n",
       "    .dataframe thead th {\n",
       "        text-align: right;\n",
       "    }\n",
       "</style>\n",
       "<table border=\"1\" class=\"dataframe\">\n",
       "  <thead>\n",
       "    <tr style=\"text-align: right;\">\n",
       "      <th></th>\n",
       "      <th>date</th>\n",
       "      <th>group</th>\n",
       "      <th>visits</th>\n",
       "    </tr>\n",
       "  </thead>\n",
       "  <tbody>\n",
       "    <tr>\n",
       "      <th>55</th>\n",
       "      <td>2019-08-01</td>\n",
       "      <td>A</td>\n",
       "      <td>719</td>\n",
       "    </tr>\n",
       "    <tr>\n",
       "      <th>66</th>\n",
       "      <td>2019-08-01</td>\n",
       "      <td>B</td>\n",
       "      <td>713</td>\n",
       "    </tr>\n",
       "    <tr>\n",
       "      <th>175</th>\n",
       "      <td>2019-08-02</td>\n",
       "      <td>A</td>\n",
       "      <td>1338</td>\n",
       "    </tr>\n",
       "    <tr>\n",
       "      <th>173</th>\n",
       "      <td>2019-08-02</td>\n",
       "      <td>B</td>\n",
       "      <td>1294</td>\n",
       "    </tr>\n",
       "    <tr>\n",
       "      <th>291</th>\n",
       "      <td>2019-08-03</td>\n",
       "      <td>A</td>\n",
       "      <td>1845</td>\n",
       "    </tr>\n",
       "  </tbody>\n",
       "</table>\n",
       "</div>"
      ],
      "text/plain": [
       "          date group  visits\n",
       "55  2019-08-01     A     719\n",
       "66  2019-08-01     B     713\n",
       "175 2019-08-02     A    1338\n",
       "173 2019-08-02     B    1294\n",
       "291 2019-08-03     A    1845"
      ]
     },
     "execution_count": 324,
     "metadata": {},
     "output_type": "execute_result"
    }
   ],
   "source": [
    "# Datos diarios acumulados agregados sobre los visitantes\n",
    "visitorsAggregated = (datesGroups\n",
    "                      .apply(lambda x: visits[np.logical_and(visits['date'] <= x['date'], visits['group'] == x['group'])]\n",
    "                      .agg({'date' : 'max', \n",
    "                            'group' : 'max', \n",
    "                            'visits' : 'sum'}), axis=1)\n",
    "                      .sort_values(by=['date', 'group'])\n",
    "                     )\n",
    "\n",
    "visitorsAggregated.head()"
   ]
  },
  {
   "cell_type": "markdown",
   "metadata": {},
   "source": [
    "Fusionamos las dos tablas en una y damos a sus columnas nombres descriptivos:"
   ]
  },
  {
   "cell_type": "code",
   "execution_count": 325,
   "metadata": {},
   "outputs": [
    {
     "data": {
      "text/html": [
       "<div>\n",
       "<style scoped>\n",
       "    .dataframe tbody tr th:only-of-type {\n",
       "        vertical-align: middle;\n",
       "    }\n",
       "\n",
       "    .dataframe tbody tr th {\n",
       "        vertical-align: top;\n",
       "    }\n",
       "\n",
       "    .dataframe thead th {\n",
       "        text-align: right;\n",
       "    }\n",
       "</style>\n",
       "<table border=\"1\" class=\"dataframe\">\n",
       "  <thead>\n",
       "    <tr style=\"text-align: right;\">\n",
       "      <th></th>\n",
       "      <th>date</th>\n",
       "      <th>group</th>\n",
       "      <th>orders</th>\n",
       "      <th>buyers</th>\n",
       "      <th>revenue</th>\n",
       "      <th>visitors</th>\n",
       "    </tr>\n",
       "  </thead>\n",
       "  <tbody>\n",
       "    <tr>\n",
       "      <th>0</th>\n",
       "      <td>2019-08-01</td>\n",
       "      <td>A</td>\n",
       "      <td>23</td>\n",
       "      <td>19</td>\n",
       "      <td>2266.6</td>\n",
       "      <td>719</td>\n",
       "    </tr>\n",
       "    <tr>\n",
       "      <th>1</th>\n",
       "      <td>2019-08-01</td>\n",
       "      <td>B</td>\n",
       "      <td>17</td>\n",
       "      <td>17</td>\n",
       "      <td>967.2</td>\n",
       "      <td>713</td>\n",
       "    </tr>\n",
       "    <tr>\n",
       "      <th>2</th>\n",
       "      <td>2019-08-02</td>\n",
       "      <td>A</td>\n",
       "      <td>42</td>\n",
       "      <td>36</td>\n",
       "      <td>3734.9</td>\n",
       "      <td>1338</td>\n",
       "    </tr>\n",
       "    <tr>\n",
       "      <th>3</th>\n",
       "      <td>2019-08-02</td>\n",
       "      <td>B</td>\n",
       "      <td>40</td>\n",
       "      <td>39</td>\n",
       "      <td>3535.3</td>\n",
       "      <td>1294</td>\n",
       "    </tr>\n",
       "    <tr>\n",
       "      <th>4</th>\n",
       "      <td>2019-08-03</td>\n",
       "      <td>A</td>\n",
       "      <td>66</td>\n",
       "      <td>60</td>\n",
       "      <td>5550.1</td>\n",
       "      <td>1845</td>\n",
       "    </tr>\n",
       "  </tbody>\n",
       "</table>\n",
       "</div>"
      ],
      "text/plain": [
       "        date group  orders  buyers  revenue  visitors\n",
       "0 2019-08-01     A      23      19   2266.6       719\n",
       "1 2019-08-01     B      17      17    967.2       713\n",
       "2 2019-08-02     A      42      36   3734.9      1338\n",
       "3 2019-08-02     B      40      39   3535.3      1294\n",
       "4 2019-08-03     A      66      60   5550.1      1845"
      ]
     },
     "execution_count": 325,
     "metadata": {},
     "output_type": "execute_result"
    }
   ],
   "source": [
    "# Fusionamos las dos tablas en una y damos a sus columnas nombres descriptivos\n",
    "cumulativeData = (\n",
    "    ordersAggregated\n",
    "    .merge(visitorsAggregated, on=['date', 'group'])\n",
    ")\n",
    "\n",
    "cumulativeData.columns = ['date', 'group', 'orders', 'buyers', 'revenue', 'visitors']\n",
    "\n",
    "cumulativeData.head()"
   ]
  },
  {
   "cell_type": "markdown",
   "metadata": {},
   "source": [
    "Creemos gráficos de ingresos acumulados por día y grupo de prueba A/B:"
   ]
  },
  {
   "cell_type": "code",
   "execution_count": 326,
   "metadata": {},
   "outputs": [
    {
     "data": {
      "image/png": "[encoded data removed]",
      "text/plain": [
       "<Figure size 640x480 with 1 Axes>"
      ]
     },
     "metadata": {},
     "output_type": "display_data"
    }
   ],
   "source": [
    "# Crear grafico de ingresos acumulados por dia y grupo de prueba A/B\n",
    "cumulativeRevenueA = cumulativeData[cumulativeData['group'] == 'A'][['date', 'revenue', 'orders']]\n",
    "cumulativeRevenueB = cumulativeData[cumulativeData['group'] == 'B'][['date', 'revenue', 'orders']]\n",
    "\n",
    "plt.plot(cumulativeRevenueA['date'], cumulativeRevenueA['revenue'], label='A')\n",
    "plt.plot(cumulativeRevenueB['date'], cumulativeRevenueB['revenue'], label='B')\n",
    "plt.title('Ingreso Acumulado por Grupo')\n",
    "plt.xlabel('Fecha')\n",
    "plt.ylabel('Ingreso')\n",
    "plt.legend()\n",
    "plt.xticks(rotation=45)\n",
    "plt.show()"
   ]
  },
  {
   "cell_type": "markdown",
   "metadata": {},
   "source": [
    " - Grupo A: Comienza más bajo pero eventualmente supera al Grupo B. Indica que tuvo un inicio más lento pero generó un mayor ingreso acumulado al final del período observado.\n",
    " - Grupo B: Muestra un aumento constante pero no alcanza el mismo nivel de ingreso final que el Grupo A.\n",
    "\n",
    "### Conclusión:\n",
    "\n",
    "Ambos grupos aumentaron su ingreso acumulado con el tiempo.\n",
    "Grupo A fue más exitoso en generar un mayor ingreso al final del período.\n",
    "Las estrategias o condiciones aplicadas al Grupo A podrían haber sido más efectivas en términos de generación de ingresos."
   ]
  },
  {
   "cell_type": "markdown",
   "metadata": {},
   "source": [
    "## Representa gráficamente el tamaño de pedido promedio acumulado por grupo"
   ]
  },
  {
   "cell_type": "markdown",
   "metadata": {},
   "source": [
    "Vamos a trazar el tamaño promedio de compra por grupo. Vamos a dividir los ingresos acumulados entre el número acumulado de pedidos:"
   ]
  },
  {
   "cell_type": "code",
   "execution_count": 327,
   "metadata": {},
   "outputs": [
    {
     "data": {
      "image/png": "[encoded data removed]",
      "text/plain": [
       "<Figure size 640x480 with 1 Axes>"
      ]
     },
     "metadata": {},
     "output_type": "display_data"
    }
   ],
   "source": [
    "# Graficar tamaño promedio de compra por grupo\n",
    "plt.plot(cumulativeRevenueA['date'],\n",
    "         cumulativeRevenueA['revenue'] / cumulativeRevenueA['orders'],\n",
    "         label='A'\n",
    "        )\n",
    "plt.plot(cumulativeRevenueB['date'],\n",
    "         cumulativeRevenueB['revenue'] / cumulativeRevenueB['orders'],\n",
    "         label='B'\n",
    "        )\n",
    "plt.title('Ingreso Promedio por Pedido por Grupo')\n",
    "plt.xlabel('Fecha')\n",
    "plt.ylabel('Ingreso Promedio')\n",
    "plt.legend()\n",
    "plt.xticks(rotation=45)\n",
    "plt.show()"
   ]
  },
  {
   "cell_type": "markdown",
   "metadata": {},
   "source": [
    "### Conclusión:\n",
    "\n",
    "Al igual que en el gráfico anterior, hay un pico en el monto promedio de compra. El monto promedio de compra también fue estable hacia el final de la prueba. Necesitamos más datos relacionados con este grupo para encontrar el monto promedio de compra real y establecer el nivel."
   ]
  },
  {
   "cell_type": "markdown",
   "metadata": {},
   "source": [
    "## Representa gráficamente la diferencia relativa en el tamaño de pedido promedio acumulado para el grupo B en comparación con el grupo A"
   ]
  },
  {
   "cell_type": "code",
   "execution_count": 328,
   "metadata": {},
   "outputs": [
    {
     "data": {
      "text/html": [
       "<div>\n",
       "<style scoped>\n",
       "    .dataframe tbody tr th:only-of-type {\n",
       "        vertical-align: middle;\n",
       "    }\n",
       "\n",
       "    .dataframe tbody tr th {\n",
       "        vertical-align: top;\n",
       "    }\n",
       "\n",
       "    .dataframe thead th {\n",
       "        text-align: right;\n",
       "    }\n",
       "</style>\n",
       "<table border=\"1\" class=\"dataframe\">\n",
       "  <thead>\n",
       "    <tr style=\"text-align: right;\">\n",
       "      <th></th>\n",
       "      <th>date</th>\n",
       "      <th>revenueA</th>\n",
       "      <th>ordersA</th>\n",
       "      <th>revenueB</th>\n",
       "      <th>ordersB</th>\n",
       "    </tr>\n",
       "  </thead>\n",
       "  <tbody>\n",
       "    <tr>\n",
       "      <th>0</th>\n",
       "      <td>2019-08-01</td>\n",
       "      <td>2266.6</td>\n",
       "      <td>23</td>\n",
       "      <td>967.2</td>\n",
       "      <td>17</td>\n",
       "    </tr>\n",
       "    <tr>\n",
       "      <th>1</th>\n",
       "      <td>2019-08-02</td>\n",
       "      <td>3734.9</td>\n",
       "      <td>42</td>\n",
       "      <td>3535.3</td>\n",
       "      <td>40</td>\n",
       "    </tr>\n",
       "    <tr>\n",
       "      <th>2</th>\n",
       "      <td>2019-08-03</td>\n",
       "      <td>5550.1</td>\n",
       "      <td>66</td>\n",
       "      <td>4606.9</td>\n",
       "      <td>54</td>\n",
       "    </tr>\n",
       "    <tr>\n",
       "      <th>3</th>\n",
       "      <td>2019-08-04</td>\n",
       "      <td>6225.6</td>\n",
       "      <td>77</td>\n",
       "      <td>6138.5</td>\n",
       "      <td>68</td>\n",
       "    </tr>\n",
       "    <tr>\n",
       "      <th>4</th>\n",
       "      <td>2019-08-05</td>\n",
       "      <td>7623.6</td>\n",
       "      <td>99</td>\n",
       "      <td>7587.8</td>\n",
       "      <td>89</td>\n",
       "    </tr>\n",
       "  </tbody>\n",
       "</table>\n",
       "</div>"
      ],
      "text/plain": [
       "        date  revenueA  ordersA  revenueB  ordersB\n",
       "0 2019-08-01    2266.6       23     967.2       17\n",
       "1 2019-08-02    3734.9       42    3535.3       40\n",
       "2 2019-08-03    5550.1       66    4606.9       54\n",
       "3 2019-08-04    6225.6       77    6138.5       68\n",
       "4 2019-08-05    7623.6       99    7587.8       89"
      ]
     },
     "execution_count": 328,
     "metadata": {},
     "output_type": "execute_result"
    }
   ],
   "source": [
    "# Reunir los datos en un DataFrame\n",
    "mergedCumulativeRevenue = cumulativeRevenueA.merge(cumulativeRevenueB, on='date', suffixes=['A', 'B'])\n",
    "\n",
    "mergedCumulativeRevenue.head()"
   ]
  },
  {
   "cell_type": "code",
   "execution_count": 329,
   "metadata": {},
   "outputs": [
    {
     "data": {
      "image/png": "[encoded data removed]",
      "text/plain": [
       "<Figure size 640x480 with 1 Axes>"
      ]
     },
     "metadata": {},
     "output_type": "display_data"
    }
   ],
   "source": [
    "# Trazar un gráfico de diferencia relativa para los tamaños de compra promedio\n",
    "plt.plot(mergedCumulativeRevenue['date'],\n",
    "         (mergedCumulativeRevenue['revenueB'] / mergedCumulativeRevenue['ordersB']) / (mergedCumulativeRevenue['revenueA'] / mergedCumulativeRevenue['ordersA']) - 1\n",
    "        )\n",
    "plt.axhline(y=0, color='black', linestyle='--')\n",
    "plt.title('Relación de Ingresos Promedio por Pedido B/A')\n",
    "plt.xlabel('Fecha')\n",
    "plt.ylabel('Relación')\n",
    "plt.xticks(rotation=45)\n",
    "plt.show()"
   ]
  },
  {
   "cell_type": "markdown",
   "metadata": {},
   "source": [
    "### Conclusión:\n",
    "\n",
    "En algún momento, la diferencia entre los segmentos aumenta drásticamente. ¡Esto indica la presencia de grandes pedidos y valores atípicos! Vamos a profundizar en esto más adelante."
   ]
  },
  {
   "cell_type": "markdown",
   "metadata": {},
   "source": [
    "## Calcula la tasa de conversión de cada grupo como la relación entre los pedidos y el número de visitas de cada día."
   ]
  },
  {
   "cell_type": "code",
   "execution_count": 330,
   "metadata": {},
   "outputs": [],
   "source": [
    "# Calcular la conversion acumulada\n",
    "cumulativeData['conversion'] = cumulativeData['orders'] / cumulativeData['visitors']\n",
    "\n",
    "# Separar los datos por grupo\n",
    "cumulativeDataA = cumulativeData[cumulativeData['group'] == 'A']\n",
    "cumulativeDataB = cumulativeData[cumulativeData['group'] == 'B']"
   ]
  },
  {
   "cell_type": "code",
   "execution_count": 331,
   "metadata": {},
   "outputs": [
    {
     "data": {
      "image/png": "[encoded data removed]",
      "text/plain": [
       "<Figure size 640x480 with 1 Axes>"
      ]
     },
     "metadata": {},
     "output_type": "display_data"
    }
   ],
   "source": [
    "# Graficar la conversion acumulada por grupo\n",
    "plt.plot(cumulativeDataA['date'], cumulativeDataA['conversion'], label='A')\n",
    "plt.plot(cumulativeDataB['date'], cumulativeDataB['conversion'], label='B')\n",
    "plt.axis([pd.to_datetime('2019-08-01'), pd.to_datetime('2019-08-31'), 0, 0.05])\n",
    "plt.title('Conversion Acumulada por Grupo')\n",
    "plt.xlabel('Fecha')\n",
    "plt.ylabel('Conversion')\n",
    "plt.legend()\n",
    "plt.xticks(rotation=45)\n",
    "plt.show()"
   ]
  },
  {
   "cell_type": "markdown",
   "metadata": {},
   "source": [
    "### Conclusión:\n",
    "\n",
    "Ambos grupos fluctuaron alrededor del mismo valor, pero luego la tasa de conversión del grupo **A** cayó antes de estabilizarse, mientras que la tasa de conversión del grupo **B** subió antes de finalmente también estabilizarse.\n"
   ]
  },
  {
   "cell_type": "code",
   "execution_count": 332,
   "metadata": {},
   "outputs": [
    {
     "data": {
      "text/html": [
       "<div>\n",
       "<style scoped>\n",
       "    .dataframe tbody tr th:only-of-type {\n",
       "        vertical-align: middle;\n",
       "    }\n",
       "\n",
       "    .dataframe tbody tr th {\n",
       "        vertical-align: top;\n",
       "    }\n",
       "\n",
       "    .dataframe thead th {\n",
       "        text-align: right;\n",
       "    }\n",
       "</style>\n",
       "<table border=\"1\" class=\"dataframe\">\n",
       "  <thead>\n",
       "    <tr style=\"text-align: right;\">\n",
       "      <th></th>\n",
       "      <th>date</th>\n",
       "      <th>conversionA</th>\n",
       "      <th>conversionB</th>\n",
       "    </tr>\n",
       "  </thead>\n",
       "  <tbody>\n",
       "    <tr>\n",
       "      <th>0</th>\n",
       "      <td>2019-08-01</td>\n",
       "      <td>0.031989</td>\n",
       "      <td>0.023843</td>\n",
       "    </tr>\n",
       "    <tr>\n",
       "      <th>1</th>\n",
       "      <td>2019-08-02</td>\n",
       "      <td>0.031390</td>\n",
       "      <td>0.030912</td>\n",
       "    </tr>\n",
       "    <tr>\n",
       "      <th>2</th>\n",
       "      <td>2019-08-03</td>\n",
       "      <td>0.035772</td>\n",
       "      <td>0.029950</td>\n",
       "    </tr>\n",
       "    <tr>\n",
       "      <th>3</th>\n",
       "      <td>2019-08-04</td>\n",
       "      <td>0.030055</td>\n",
       "      <td>0.026428</td>\n",
       "    </tr>\n",
       "    <tr>\n",
       "      <th>4</th>\n",
       "      <td>2019-08-05</td>\n",
       "      <td>0.029837</td>\n",
       "      <td>0.027134</td>\n",
       "    </tr>\n",
       "  </tbody>\n",
       "</table>\n",
       "</div>"
      ],
      "text/plain": [
       "        date  conversionA  conversionB\n",
       "0 2019-08-01     0.031989     0.023843\n",
       "1 2019-08-02     0.031390     0.030912\n",
       "2 2019-08-03     0.035772     0.029950\n",
       "3 2019-08-04     0.030055     0.026428\n",
       "4 2019-08-05     0.029837     0.027134"
      ]
     },
     "execution_count": 332,
     "metadata": {},
     "output_type": "execute_result"
    }
   ],
   "source": [
    "# Unir los datos en un DataFrame\n",
    "mergedCumulativeConversions = cumulativeDataA[['date', 'conversion']].merge(cumulativeDataB[['date', 'conversion']], on='date', suffixes=['A', 'B'])\n",
    "\n",
    "mergedCumulativeConversions.head()"
   ]
  },
  {
   "cell_type": "code",
   "execution_count": 333,
   "metadata": {},
   "outputs": [
    {
     "data": {
      "image/png": "[encoded data removed]",
      "text/plain": [
       "<Figure size 640x480 with 1 Axes>"
      ]
     },
     "metadata": {},
     "output_type": "display_data"
    }
   ],
   "source": [
    "# Graficar la diferencia relativa de las conversiones acumuladas\n",
    "plt.plot(mergedCumulativeConversions['date'], mergedCumulativeConversions['conversionB'] / mergedCumulativeConversions['conversionA'] - 1)\n",
    "plt.axhline(y=0, color='black', linestyle='--')\n",
    "plt.axhline(y=0.2, color='grey', linestyle='--')\n",
    "plt.axis([pd.to_datetime('2019-08-01'), pd.to_datetime('2019-08-31'), -0.5, 0.5])\n",
    "plt.title('Relación de Conversiones Acumuladas B/A')\n",
    "plt.xlabel('Fecha')\n",
    "plt.ylabel('Relación')\n",
    "plt.xticks(rotation=45)\n",
    "plt.show()"
   ]
  },
  {
   "cell_type": "markdown",
   "metadata": {},
   "source": [
    "### Conclusión:\n",
    "\n",
    "Al principio de la prueba, el grupo **B** estaba muy por detrás, pero luego inesperadamente logró tomar la delantera. En general, la tasa de conversión no es estable, por lo que es demasiado pronto para concluir esta prueba. Sin embargo, lo primero que debemos observar son las anomalías; Estas anomalías probablemente cambiarán la grafica."
   ]
  },
  {
   "cell_type": "markdown",
   "metadata": {},
   "source": [
    "## Traza un gráfico de dispersión del número de pedidos por usuario"
   ]
  },
  {
   "cell_type": "code",
   "execution_count": 334,
   "metadata": {},
   "outputs": [
    {
     "data": {
      "image/png": "[encoded data removed]",
      "text/plain": [
       "<Figure size 640x480 with 1 Axes>"
      ]
     },
     "metadata": {},
     "output_type": "display_data"
    }
   ],
   "source": [
    "# Crear grafico de dispersion del numero de pedidos por usuario\n",
    "ordersByUsers = (\n",
    "    orders\n",
    "    .drop(['group', 'revenue', 'date'], axis=1)\n",
    "    .groupby('visitor_id', as_index=False)\n",
    "    .agg({'transaction_id' : pd.Series.nunique})\n",
    ")\n",
    "\n",
    "ordersByUsers.columns = ['visitor_id', 'orders']\n",
    "\n",
    "x_values = pd.Series(range(0, len(ordersByUsers)))\n",
    "plt.scatter(x_values, ordersByUsers['orders'])\n",
    "plt.title('Numero de Pedidos por Usuario')\n",
    "plt.xlabel('Usuario')\n",
    "plt.ylabel('Numero de Pedidos')\n",
    "plt.show()"
   ]
  },
  {
   "cell_type": "markdown",
   "metadata": {},
   "source": [
    "### Conclusión:\n",
    "\n",
    "Podemos ver que la mayoría de los usuarios realizan solo 1 pedido. De hecho, hay muchos usuarios que realizan entre dos y cuatro pedidos. Desafortunadamente, el número exacto de porcentajes aún es desconocido, ya que todavía no está claro si debemos considerarlo una anomalía o no.\n",
    "\n",
    "A continuación, calculemos el percentil para el número de pedidos por usuario par detectar si son anomalias:"
   ]
  },
  {
   "cell_type": "markdown",
   "metadata": {},
   "source": [
    "## Calcula los percentiles 95 y 99 para el número de pedidos por usuario"
   ]
  },
  {
   "cell_type": "code",
   "execution_count": 335,
   "metadata": {},
   "outputs": [
    {
     "name": "stdout",
     "output_type": "stream",
     "text": [
      "[1. 2.]\n"
     ]
    }
   ],
   "source": [
    "# Calcular los percentiles del numero de pedidos por usuario\n",
    "print(np.percentile(ordersByUsers['orders'], [95, 99])) "
   ]
  },
  {
   "cell_type": "markdown",
   "metadata": {},
   "source": [
    "### Conclusión:\n",
    "\n",
    "El número de usuarios que realizaron más de 1 pedido no superó el **5%**. Por lo tanto, podemos establecer un pedido por usuario como el límite inferior del número de pedidos a la vez para filtrar anomalías."
   ]
  },
  {
   "cell_type": "markdown",
   "metadata": {},
   "source": [
    "## Traza un gráfico de dispersión de los precios de los pedidos"
   ]
  },
  {
   "cell_type": "code",
   "execution_count": 336,
   "metadata": {},
   "outputs": [
    {
     "data": {
      "image/png": "[encoded data removed]",
      "text/plain": [
       "<Figure size 640x480 with 1 Axes>"
      ]
     },
     "metadata": {},
     "output_type": "display_data"
    }
   ],
   "source": [
    "# Crear grafico de dispersion del valor de los pedidos\n",
    "x_values = pd.Series(range(0, len(orders['revenue'])))\n",
    "plt.scatter(x_values, orders['revenue'])\n",
    "plt.title('Valor de los Pedidos')\n",
    "plt.xlabel('Pedido')\n",
    "plt.ylabel('Valor')\n",
    "plt.show()"
   ]
  },
  {
   "cell_type": "markdown",
   "metadata": {},
   "source": [
    "### Conclusión:\n",
    "\n",
    "Hay algunos pedidos que son de gran tamaño. Basándonos en el gráfico anterior, podemos establecer un límite para los pedidos anormales, que es superior a **$2,500**. Sin embargo, en general, se filtrará el **1-5%** de los pedidos más extremos del valor observado.\n",
    "\n",
    "Definamos los percentiles 95 y 99 para el tamaño promedio del pedido en nuestra muestra:"
   ]
  },
  {
   "cell_type": "markdown",
   "metadata": {},
   "source": [
    "## Calcula los percentiles 95 y 99 de los precios de los pedidos"
   ]
  },
  {
   "cell_type": "code",
   "execution_count": 337,
   "metadata": {},
   "outputs": [
    {
     "name": "stdout",
     "output_type": "stream",
     "text": [
      "[414.275 830.3  ]\n"
     ]
    }
   ],
   "source": [
    "# Calcular los percentiles del valor de los pedidos\n",
    "print(np.percentile(orders['revenue'], [95, 99]))"
   ]
  },
  {
   "cell_type": "markdown",
   "metadata": {},
   "source": [
    "### Conclusión:\n",
    "\n",
    "El porcentaje de pedidos con un costo superior a **$414** no es más del **5%**, mientras que las tarifas superiores a **$830** son como máximo el **1%**."
   ]
  },
  {
   "cell_type": "markdown",
   "metadata": {},
   "source": [
    "## Encuentra la significancia estadística de la diferencia en la conversión entre los grupos utilizando los datos en bruto"
   ]
  },
  {
   "cell_type": "code",
   "execution_count": 338,
   "metadata": {},
   "outputs": [],
   "source": [
    "# Calcular la significancia estadística de la diferencia de conversión entre los grupos\n",
    "ordersByUsersA = orders[orders['group'] == 'A'].groupby('visitor_id', as_index=False).agg({'transaction_id' : pd.Series.nunique})\n",
    "ordersByUsersA.columns = ['visitor_id', 'orders']\n",
    "\n",
    "ordersByUsersB = orders[orders['group'] == 'B'].groupby('visitor_id', as_index=False).agg({'transaction_id' : pd.Series.nunique})\n",
    "ordersByUsersB.columns = ['visitor_id', 'orders']"
   ]
  },
  {
   "cell_type": "markdown",
   "metadata": {},
   "source": [
    "Ahora necesitamos crear las variables `sampleA` y `sampleB`, que cargarán a los usuarios de los diferentes grupos y la cantidad de pedidos correspondiente. Para aquellos que no realizan un pedido, el valor será **0**. Esto es necesario para preparar las muestras para la prueba de Mann-Whitney.\n",
    "\n",
    "La idea principal detrás de esta prueba es clasificar las dos muestras en orden ascendente y comparar el rango de valores que aparecen en ambas muestras (es decir, en qué posición aparecen en la muestra). Si la diferencia entre sus clasificaciones es la misma de una muestra a otra, esto significa que el desplazamiento es típico. Es decir, parte del valor se suma simplemente, causando que el resto se desplace.\n",
    "\n",
    "Los desplazamientos no típicos señalan un cambio real. La suma de esos desplazamientos de clasificación (de #1 a #4 significa 3, etc.) es el valor del criterio. Cuanto mayor sea el número de desplazamientos en el rango, mayor será la probabilidad de diferencia en la distribución de las dos muestras. La probabilidad de obtener varios valores de la prueba de Mann-Whitney se ha calculado teóricamente, lo que nos permite concluir la presencia o ausencia de diferencias para cualquier grado de significancia establecido.\n",
    "\n",
    "Aquí, los métodos no paramétricos son útiles, ya que no hacen suposiciones sobre cómo se distribuyen los datos (por lo que no tienes que estimar los parámetros de la distribución). Estos métodos se utilizan a menudo cuando los parámetros son difíciles (o incluso imposibles) de estimar como resultado de demasiados valores atípicos.\n",
    "\n",
    "Para esta tarea específica de la prueba de Mann-Whitney, los pasos son:\n",
    "\n",
    "1. Crear una lista del número de pedidos para cada usuario: `ordersByUsersA['orders']`.\n",
    "2. Crear una serie de la longitud requerida llena de valores cero para aquellos usuarios que no realizaron un pedido: `pd.Series(0, index=np.arange(visitors[visitors['group']=='A']['visitors'].sum() - len(ordersByUsersA['orders'])), name='orders')`.\n",
    "3. Combinar el circuito con `pd.concat()`. Primero, debemos pasar lo que necesitamos incorporar al método. En nuestro caso, esta es una lista de la primera y segunda secciones. Luego, pasaremos un argumento indicando que el objeto `Series` se unirá por fila (en otras palabras, se escribirá secuencialmente) con el parámetro `axis = 0`.\n"
   ]
  },
  {
   "cell_type": "code",
   "execution_count": 339,
   "metadata": {},
   "outputs": [],
   "source": [
    "# Crear un DataFrame con todos los usuarios y el numero de pedidos\n",
    "sampleA = pd.concat(\n",
    "    [ordersByUsersA['orders'], \n",
    "     pd.Series(0, index=np.arange(visits[visits['group'] == 'A']['visits'].sum() - len(ordersByUsersA['orders'])), name='orders')], axis=0)\n",
    "sampleB = pd.concat(\n",
    "    [ordersByUsersB['orders'], \n",
    "     pd.Series(0, index=np.arange(visits[visits['group'] == 'B']['visits'].sum() - len(ordersByUsersB['orders'])), name='orders')], axis=0)"
   ]
  },
  {
   "cell_type": "code",
   "execution_count": 340,
   "metadata": {},
   "outputs": [
    {
     "name": "stdout",
     "output_type": "stream",
     "text": [
      "0.011\n",
      "0.160\n"
     ]
    }
   ],
   "source": [
    "# Calcular la significancia estadística\n",
    "print('{0:.3f}'.format(stats.mannwhitneyu(sampleA, sampleB)[1]))\n",
    "print('{0:.3f}'.format(sampleB.mean() / sampleA.mean() - 1))"
   ]
  },
  {
   "cell_type": "markdown",
   "metadata": {},
   "source": [
    "Aqui podemois ver que ña diferencia es significativa, pero vamos a realizar la prueba con un valor en alpha de **0.05**:"
   ]
  },
  {
   "cell_type": "code",
   "execution_count": 341,
   "metadata": {},
   "outputs": [
    {
     "name": "stdout",
     "output_type": "stream",
     "text": [
      "p-value: 0.011\n",
      "Se rechaza la hipotesis nula: La diferencia es estadisticamente significativa\n",
      "Conversion de B es 16.0% mayor que la de A\n"
     ]
    }
   ],
   "source": [
    "# Calcular la significancia estadística de la diferencia de ingresos entre los grupos\n",
    "alpha = 0.05\n",
    "results1 = st.mannwhitneyu(sampleA, sampleB)\n",
    "print('p-value:', results1.pvalue.round(3))\n",
    "\n",
    "if results1.pvalue < alpha:\n",
    "    print('Se rechaza la hipotesis nula: La diferencia es estadisticamente significativa')\n",
    "else:\n",
    "    print('No se rechaza la hipotesis nula: No hay diferencia estadisticamente significativa')\n",
    "\n",
    "print('Conversion de B es {0:.1%} mayor que la de A'.format(sampleB.mean() / sampleA.mean() - 1))"
   ]
  },
  {
   "cell_type": "markdown",
   "metadata": {},
   "source": [
    "### Conclusión:\n",
    "\n",
    "Basado en los datos crudos que usamos, resulta que hay una diferencia significativa entre los grupos **A** y **B**.\n",
    "\n",
    "La primera línea del resultado obtenido nos da un valor p de **0.011**, que es menor que **0.05**. Por lo tanto, rechazamos la hipótesis nula porque hay una diferencia estadísticamente significativa en la conversión entre los grupos. La inclinación relativa del grupo **B** fue del **16%**.\n"
   ]
  },
  {
   "cell_type": "markdown",
   "metadata": {},
   "source": [
    "## Encuentra la significancia estadística de la diferencia en el tamaño promedio de pedido entre los grupos utilizando los datos en bruto"
   ]
  },
  {
   "cell_type": "code",
   "execution_count": 342,
   "metadata": {},
   "outputs": [
    {
     "name": "stdout",
     "output_type": "stream",
     "text": [
      "p-value: 0.862\n",
      "No se rechaza la hipotesis nula: No hay diferencia estadisticamente significativa\n",
      "Ingresos de B son 27.8% mayores que los de A\n"
     ]
    }
   ],
   "source": [
    "# Calcular la significancia estadística de la diferencia de tamaños de compra entre los grupos\n",
    "results2 = st.mannwhitneyu(orders[orders['group'] == 'A']['revenue'], orders[orders['group'] == 'B']['revenue'])\n",
    "print('p-value:', results2.pvalue.round(3))\n",
    "\n",
    "if results2.pvalue < alpha:\n",
    "    print('Se rechaza la hipotesis nula: La diferencia es estadisticamente significativa')\n",
    "else:\n",
    "    print('No se rechaza la hipotesis nula: No hay diferencia estadisticamente significativa')\n",
    "\n",
    "print('Ingresos de B son {0:.1%} mayores que los de A'.format(orders[orders['group'] == 'B']['revenue'].mean() / orders[orders['group'] == 'A']['revenue'].mean() - 1))"
   ]
  },
  {
   "cell_type": "markdown",
   "metadata": {},
   "source": [
    "### Conclusión:\n",
    "\n",
    "El valor p es mucho mayor que **0.05**, por lo que no podemos rechazar la hipótesis nula y concluir que el tamaño promedio de los pedidos entre los grupos es diferente. Sin embargo, el tamaño promedio del pedido para el grupo **B** es, de hecho, mucho mayor que el del grupo **A**.\n"
   ]
  },
  {
   "cell_type": "markdown",
   "metadata": {},
   "source": [
    "## Encuentra la significancia estadística de la diferencia en la conversión entre los grupos utilizando los datos filtrados"
   ]
  },
  {
   "cell_type": "markdown",
   "metadata": {},
   "source": [
    "De acuerdo a los percentiles 95 y 99 para el tamaño promedio del pedido son de **$414** y **$830**. Mientras tanto, los percentiles 95 y 99 para el número de pedidos por usuario son **1** y **2 pedidos**.\n",
    "\n",
    "Definiremos un usuario no natural (anomalía) como un usuario que realiza más de un pedido o un pedido con un valor superior a **$414**. Por lo tanto, eliminaremos el **5%** de los usuarios con el mayor número de pedidos y el **1-5%** de los usuarios con el valor de pedido más alto.\n"
   ]
  },
  {
   "cell_type": "code",
   "execution_count": 343,
   "metadata": {},
   "outputs": [
    {
     "name": "stdout",
     "output_type": "stream",
     "text": [
      "Usuarios con mas de 1 pedido que representan el 1% de los datos: 36 usuarios\n"
     ]
    }
   ],
   "source": [
    "# Calcular la significancia estadística de la diferencia de conversiones entre los grupos\n",
    "usersWithManyOrders = pd.concat([ordersByUsersA[ordersByUsersA['orders'] > 1]['visitor_id'], ordersByUsersB[ordersByUsersB['orders'] > 1]['visitor_id']], axis=0)\n",
    "\n",
    "print('Usuarios con mas de 1 pedido que representan el 1% de los datos:', len(usersWithManyOrders), 'usuarios')"
   ]
  },
  {
   "cell_type": "code",
   "execution_count": 344,
   "metadata": {},
   "outputs": [
    {
     "name": "stdout",
     "output_type": "stream",
     "text": [
      "Usuarios con pedidos caros que representan el 1% de los datos: 51 usuarios\n"
     ]
    }
   ],
   "source": [
    "# Calcular la significancia estadística de la diferencia de ingresos entre los grupos\n",
    "usersWithExpensiveOrders = orders[orders['revenue'] > 414]['visitor_id']\n",
    "\n",
    "print('Usuarios con pedidos caros que representan el 1% de los datos:', len(usersWithExpensiveOrders), 'usuarios')"
   ]
  },
  {
   "cell_type": "code",
   "execution_count": 352,
   "metadata": {},
   "outputs": [
    {
     "name": "stdout",
     "output_type": "stream",
     "text": [
      "568     113298937\n",
      "1099    148427295\n",
      "928     204675465\n",
      "33      249864742\n",
      "684     358944393\n",
      "Name: visitor_id, dtype: int64\n",
      "--------------------------------------------------\n",
      "Usuarios anomalos: 86\n"
     ]
    }
   ],
   "source": [
    "# Unir los usuarios anormales\n",
    "abnormalUsers = pd.concat([usersWithManyOrders, usersWithExpensiveOrders], axis=0).drop_duplicates().sort_values()\n",
    "print(abnormalUsers.head())\n",
    "print('-'*50)\n",
    "print('Usuarios anomalos:', abnormalUsers.shape[0])"
   ]
  },
  {
   "cell_type": "markdown",
   "metadata": {},
   "source": [
    "Vamos a descubrir el impacto de sus acciones en los resultados de la prueba. Calcularemos la significancia estadística de las diferencias de conversión entre grupos utilizando los datos filtrados. En primer lugar, configuraremos una muestra del número de pedidos por usuario para cada grupo de prueba:\n",
    "\n",
    "1. **Crear una muestra del número de pedidos por usuario para cada grupo:**\n",
    "   - Filtraremos los datos para eliminar los usuarios no naturales (anomalías) como se definió anteriormente.\n",
    "   - Calcularemos el número de pedidos por usuario en cada grupo, excluyendo las anomalías.\n",
    "   \n",
    "2. **Realizar el análisis de significancia estadística:**\n",
    "   - Utilizaremos la muestra filtrada para evaluar si las diferencias de conversión entre los grupos siguen siendo estadísticamente significativas.\n"
   ]
  },
  {
   "cell_type": "code",
   "execution_count": 346,
   "metadata": {},
   "outputs": [],
   "source": [
    "# Calcular la significancia estadística de las diferencias en la conversión entre los grupos con datos filtrados\n",
    "sampleAFiltered = pd.concat(\n",
    "    [ordersByUsersA[np.logical_not(ordersByUsersA['visitor_id'].isin(abnormalUsers))]['orders'],\n",
    "     pd.Series(0, index=np.arange(visits[visits['group'] == 'A']['visits'].sum() - len(ordersByUsersA['orders'])), name='orders')], axis=0)\n",
    "\n",
    "sampleBFiltered = pd.concat(\n",
    "    [ordersByUsersB[np.logical_not(ordersByUsersB['visitor_id'].isin(abnormalUsers))]['orders'],\n",
    "     pd.Series(0, index=np.arange(visits[visits['group'] == 'B']['visits'].sum() - len(ordersByUsersB['orders'])), name='orders')], axis=0)"
   ]
  },
  {
   "cell_type": "code",
   "execution_count": 347,
   "metadata": {},
   "outputs": [
    {
     "name": "stdout",
     "output_type": "stream",
     "text": [
      "0.016\n",
      "0.174\n"
     ]
    }
   ],
   "source": [
    "# Calcular la significancia estadística\n",
    "print('{0:.3f}'.format(st.mannwhitneyu(sampleAFiltered, sampleBFiltered)[1]))\n",
    "print('{0:.3f}'.format(sampleBFiltered.mean() / sampleAFiltered.mean() - 1))"
   ]
  },
  {
   "cell_type": "markdown",
   "metadata": {},
   "source": [
    "Aqui podemos ver uan diferencia significativa, por lo que aplicaremos los criterios estadísticos de Mann-Whitney a la muestra resultante:"
   ]
  },
  {
   "cell_type": "code",
   "execution_count": 348,
   "metadata": {},
   "outputs": [
    {
     "name": "stdout",
     "output_type": "stream",
     "text": [
      "p-value: 0.016\n",
      "Se rechaza la hipotesis nula: La diferencia es estadisticamente significativa\n",
      "Conversion de B es 17.4% mayor que la de A\n"
     ]
    }
   ],
   "source": [
    "# Calcular la significancia estadística de las diferencias en los ingresos entre los grupos con datos filtrados\n",
    "results3 = st.mannwhitneyu(sampleAFiltered, sampleBFiltered)\n",
    "print('p-value:', results3.pvalue.round(3))\n",
    "\n",
    "if results3.pvalue < alpha:\n",
    "    print('Se rechaza la hipotesis nula: La diferencia es estadisticamente significativa')\n",
    "else:\n",
    "    print('No se rechaza la hipotesis nula: No hay diferencia estadisticamente significativa')\n",
    "\n",
    "print('Conversion de B es {0:.1%} mayor que la de A'.format(sampleBFiltered.mean() / sampleAFiltered.mean() - 1))"
   ]
  },
  {
   "cell_type": "markdown",
   "metadata": {},
   "source": [
    "### Conclusión:\n",
    "\n",
    "Resulta que nuestros resultados permanecen inalterados. Aún hay una diferencia significativa entre los grupos **A** y **B**.\n",
    "\n",
    "La primera línea del resultado obtenido nos da un valor p de **0.02**, que es menor que **0.05**. Por lo tanto, rechazamos la hipótesis nula porque hay una diferencia estadísticamente significativa en la conversión entre los grupos. La inclinación relativa del grupo **B** aumentó del **16%** al **16.7%**.\n"
   ]
  },
  {
   "cell_type": "markdown",
   "metadata": {},
   "source": [
    "## Encuentra la significancia estadística de la diferencia en el tamaño promedio de pedido entre los grupos utilizando los datos filtrados"
   ]
  },
  {
   "cell_type": "code",
   "execution_count": 349,
   "metadata": {},
   "outputs": [],
   "source": [
    "# Calcular la significancia estadística de las diferencias en los tamaños de compra entre los grupos con datos filtrados\n",
    "ordersAFiltered = orders[\n",
    "    np.logical_and(orders['group'] == 'A', \n",
    "    np.logical_not(orders['visitor_id'].isin(abnormalUsers)))]['revenue']\n",
    "ordersBFiltered = orders[\n",
    "    np.logical_and(orders['group'] == 'B', \n",
    "    np.logical_not(orders['visitor_id'].isin(abnormalUsers)))]['revenue']"
   ]
  },
  {
   "cell_type": "code",
   "execution_count": 350,
   "metadata": {},
   "outputs": [
    {
     "name": "stdout",
     "output_type": "stream",
     "text": [
      "0.771\n",
      "-0.033\n"
     ]
    }
   ],
   "source": [
    "# Calcular la significancia estadística\n",
    "print('{0:.3f}'.format(st.mannwhitneyu(ordersAFiltered, ordersBFiltered)[1]))\n",
    "print('{0:.3f}'.format(ordersBFiltered.mean() / ordersAFiltered.mean() - 1))"
   ]
  },
  {
   "cell_type": "code",
   "execution_count": 351,
   "metadata": {},
   "outputs": [
    {
     "name": "stdout",
     "output_type": "stream",
     "text": [
      "p-value: 0.771\n",
      "No se rechaza la hipotesis nula: No hay diferencia estadisticamente significativa\n",
      "Ingresos de B son -3.3% mayores que los de A\n"
     ]
    }
   ],
   "source": [
    "# Calcular la significancia estadística de las diferencias en los ingresos entre los grupos con datos filtrados\n",
    "result4 = st.mannwhitneyu(ordersAFiltered, ordersBFiltered)\n",
    "print('p-value:', result4.pvalue.round(3))\n",
    "\n",
    "if result4.pvalue < alpha:\n",
    "    print('Se rechaza la hipotesis nula: La diferencia es estadisticamente significativa')\n",
    "else:\n",
    "    print('No se rechaza la hipotesis nula: No hay diferencia estadisticamente significativa')\n",
    "\n",
    "print('Ingresos de B son {0:.1%} mayores que los de A'.format(ordersBFiltered.mean() / ordersAFiltered.mean() - 1))"
   ]
  },
  {
   "cell_type": "markdown",
   "metadata": {},
   "source": [
    "### Conclusión:\n",
    "\n",
    "El valor p disminuyó y ahora la diferencia entre los segmentos es de **-3%**. Aunque nuestras conclusiones generales de esta prueba no han cambiado, este ejemplo muestra claramente cómo las anomalías pueden afectar los resultados de las pruebas A/B."
   ]
  },
  {
   "cell_type": "markdown",
   "metadata": {},
   "source": [
    "## Toma una decisión basada en los resultados de la prueba. Las decisiones posibles son:  \n",
    "  \n",
    "  A. Para la prueba, considera a uno de los grupos como líder.  \n",
    "  B. Para la prueba, concluye que no hay diferencia entre los grupos.  \n",
    "  C. Continúa la prueba."
   ]
  },
  {
   "cell_type": "markdown",
   "metadata": {},
   "source": [
    "### Conclusiones\n",
    "\n",
    "Las conclusiones que podemos extraer de esta prueba son:\n",
    "\n",
    "1. **Diferencias en Conversiones:**\n",
    "   - Tanto los datos crudos como los datos filtrados mostraron diferencias estadísticamente significativas en términos de conversiones entre los grupos.\n",
    "\n",
    "2. **Tamaño Promedio del Pedido:**\n",
    "   - Ni los datos crudos ni los datos filtrados mostraron diferencias estadísticamente significativas en términos de tamaño promedio del pedido entre los grupos.\n",
    "\n",
    "3. **Resultados del Grupo B:**\n",
    "   - Un gráfico que muestra las diferencias de conversión entre grupos indica que los resultados del grupo **B** son mejores, como lo demuestra un aumento del **16%**.\n",
    "\n",
    "4. **Tamaño del Pedido:**\n",
    "   - Un gráfico que muestra la diferencia en el tamaño promedio del pedido entre los grupos indica que los resultados del grupo **B** son más altos que los del grupo **A**. La presencia de anomalías puede haber sesgado los resultados, pero un método para filtrar estos valores atípicos muestra una disminución del **3%** en comparación con el grupo **A**.\n",
    "\n",
    "5. **Hipótesis Probada:**\n",
    "   - Esta prueba A/B se realizó para probar la hipótesis 3, que es:\n",
    "     - **Agregar bloques de recomendaciones de productos al sitio web de la tienda. Esto aumentará la conversión y el tamaño promedio de la compra.**\n",
    "\n",
    "Basado en estos hechos, se puede concluir que la prueba ha tenido éxito en parte. Existe una probabilidad de que el segmento **B** mejore en comparación con el segmento **A**. Por lo tanto, La opcion `C` es nuestra mejor opcion y continuar con la prueba un mes mas.\n"
   ]
  }
 ],
 "metadata": {
  "kernelspec": {
   "display_name": "Python 3",
   "language": "python",
   "name": "python3"
  },
  "language_info": {
   "codemirror_mode": {
    "name": "ipython",
    "version": 3
   },
   "file_extension": ".py",
   "mimetype": "text/x-python",
   "name": "python",
   "nbconvert_exporter": "python",
   "pygments_lexer": "ipython3",
   "version": "3.12.4"
  }
 },
 "nbformat": 4,
 "nbformat_minor": 2
}
