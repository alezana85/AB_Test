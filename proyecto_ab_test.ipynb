{
 "cells": [
  {
   "cell_type": "markdown",
   "metadata": {},
   "source": [
    "# Descripción del proyecto"
   ]
  },
  {
   "cell_type": "markdown",
   "metadata": {},
   "source": [
    "## Contexto\n",
    "\n",
    "El departamento de marketing has recopilado una lista de hipótesis que pueden ayudar a aumentar los ingresos. \n",
    "    \n",
    "Tienes que priorizar estas hipótesis, lanzar un test A/B y analizar los resultados."
   ]
  },
  {
   "cell_type": "markdown",
   "metadata": {},
   "source": [
    "# Descripción de los datos"
   ]
  },
  {
   "cell_type": "markdown",
   "metadata": {},
   "source": [
    "## Datos utilizados en la primera parte del proyecto\n",
    "\n",
    "`/datasets/hypotheses_us.csv`\n",
    "\n",
    "  - `Hypotheses:` breves descripciones de las hipótesis\n",
    "  - `Reach:` alcance del usuario, en una escala del uno a diez\n",
    "  - `Impact:` impacto en los usuarios, en una escala del uno al diez\n",
    "  - `Confidence:` confianza en la hipótesis, en una escala del uno al diez\n",
    "  - `Effort:` los recursos necesarios para probar una hipótesis, en una escala del uno al diez. Cuanto mayor sea el valor Effort, más recursos requiere la prueba."
   ]
  },
  {
   "cell_type": "markdown",
   "metadata": {},
   "source": [
    "## Datos utilizados en la segunda parte del proyecto\n",
    "\n",
    "`/datasets/orders_us.csv`\n",
    "\n",
    "  - `transactionId:` identificador de pedido\n",
    "  - `visitorId:` identificador del usuario que realizó el pedido\n",
    "  - `date:` fecha del pedido\n",
    "  - `revenue:` ingresos del pedido\n",
    "  - `group:` el grupo del test A/B al que pertenece el usuario\n",
    "\n",
    "`/datasets/visits_us.csv`\n",
    "\n",
    "  - `date:` la fecha\n",
    "  - `group:` grupo del test A/B\n",
    "  - `visits:` el número de visitas en la fecha especificada para el grupo de test A/B especificado"
   ]
  },
  {
   "cell_type": "markdown",
   "metadata": {},
   "source": [
    "Asegúrate de preprocesar los datos. Es posible que haya errores en los datasets originales; por ejemplo, algunos de los visitantes podrían haber entrado tanto en el grupo A como en el grupo B."
   ]
  },
  {
   "cell_type": "markdown",
   "metadata": {},
   "source": [
    "# **Parte 1.** Priorizar hipótesis"
   ]
  },
  {
   "cell_type": "markdown",
   "metadata": {},
   "source": [
    "El archivo `hypotheses_us.csv` contiene nueve hipótesis sobre cómo aumentar los ingresos de una tienda en línea con `Reach`, `Impact`, `Confidence` y `Effort` especificados para cada una."
   ]
  },
  {
   "cell_type": "markdown",
   "metadata": {},
   "source": [
    "El ejercicio consiste en:"
   ]
  },
  {
   "cell_type": "markdown",
   "metadata": {},
   "source": [
    "  - Aplicar el framework `ICE` para priorizar hipótesis. Ordenarlas en orden descendente de prioridad.\n",
    "  - Aplicar el framework `RICE` para priorizar hipótesis. Ordenarlas en orden descendente de prioridad.\n",
    "  - Mostrar cómo cambia la priorización de hipótesis cuando utilizas `RICE` en lugar de `ICE`. Proporcionar una explicación de los cambios."
   ]
  },
  {
   "cell_type": "markdown",
   "metadata": {},
   "source": [
    "# **Parte 2.** Análisis de test A/B"
   ]
  },
  {
   "cell_type": "markdown",
   "metadata": {},
   "source": [
    "Realizaste un test A/B y obtuviste los resultados descritos en los archivos `orders_us.csv` y `visitors_us.csv.`"
   ]
  },
  {
   "cell_type": "markdown",
   "metadata": {},
   "source": [
    "## Ejercicio"
   ]
  },
  {
   "cell_type": "markdown",
   "metadata": {},
   "source": [
    "Analiza el test A/B:"
   ]
  },
  {
   "cell_type": "markdown",
   "metadata": {},
   "source": [
    "  1. Representa gráficamente el ingreso acumulado por grupo. Haz conclusiones y conjeturas.\n",
    "  2. Representa gráficamente el tamaño de pedido promedio acumulado por grupo. Haz conclusiones y conjeturas.\n",
    "  3. Representa gráficamente la diferencia relativa en el tamaño de pedido promedio acumulado para el grupo B en comparación con el grupo A. Haz conclusiones y conjeturas.\n",
    "  4. Calcula la tasa de conversión de cada grupo como la relación entre los pedidos y el número de visitas de cada día. Representa gráficamente las tasas de conversión diarias de los dos grupos y describe la diferencia. Saca conclusiones y haz conjeturas.\n",
    "  5. Traza un gráfico de dispersión del número de pedidos por usuario. Haz conclusiones y conjeturas.\n",
    "  6. Calcula los percentiles 95 y 99 para el número de pedidos por usuario. Define el punto en el cual un punto de datos se convierte en una anomalía.\n",
    "  7. Traza un gráfico de dispersión de los precios de los pedidos. Haz conclusiones y conjeturas.\n",
    "  8. Calcula los percentiles 95 y 99 de los precios de los pedidos. Define el punto en el cual un punto de datos se convierte en una anomalía.\n",
    "  9. Encuentra la significancia estadística de la diferencia en la conversión entre los grupos utilizando los datos en bruto. Haz conclusiones y conjeturas.\n",
    "  10. Encuentra la significancia estadística de la diferencia en el tamaño promedio de pedido entre los grupos utilizando los datos en bruto. Haz conclusiones y conjeturas.\n",
    "  11. Encuentra la significancia estadística de la diferencia en la conversión entre los grupos utilizando los datos filtrados. Haz conclusiones y conjeturas.\n",
    "  12. Encuentra la significancia estadística de la diferencia en el tamaño promedio de pedido entre los grupos utilizando los datos filtrados. Haz conclusiones y conjeturas.\n",
    "  13. Toma una decisión basada en los resultados de la prueba. Las decisiones posibles son: \n",
    "      1. Para la prueba, considera a uno de los grupos como líder. \n",
    "      2. Para la prueba, concluye que no hay diferencia entre los grupos. \n",
    "      3. Continúa la prueba."
   ]
  },
  {
   "cell_type": "markdown",
   "metadata": {},
   "source": [
    "El proyecto será evaluado según estos criterios:\n",
    "\n",
    "  - Cómo preparas los datos para el análisis\n",
    "  - Cómo priorizas las hipótesis\n",
    "  - Cómo interpretas los gráficos resultantes\n",
    "  - Cómo calculas la significancia estadística\n",
    "  - Qué conclusiones sacas con base en los resultados del test A/B\n",
    "  - Si sigues la estructura del proyecto y mantienes el código ordenado\n",
    "  - Las conclusiones que sacas\n",
    "  - Si dejas comentarios en cada paso"
   ]
  },
  {
   "cell_type": "markdown",
   "metadata": {},
   "source": [
    "# Proyecto 9"
   ]
  },
  {
   "cell_type": "markdown",
   "metadata": {},
   "source": [
    "## *Preparar los datos para el analisis*"
   ]
  },
  {
   "cell_type": "code",
   "execution_count": 25,
   "metadata": {},
   "outputs": [],
   "source": [
    "# Importar librerias\n",
    "import pandas as pd\n",
    "import datetime as dt\n",
    "from matplotlib import pyplot as plt\n",
    "import seaborn as sns"
   ]
  },
  {
   "cell_type": "code",
   "execution_count": 3,
   "metadata": {},
   "outputs": [],
   "source": [
    "# Leer el archivos\n",
    "hypotheses = pd.read_csv('datasets/hypotheses_us.csv', sep=';')\n",
    "orders = pd.read_csv('datasets/orders_us.csv')\n",
    "visits = pd.read_csv('datasets/visits_us.csv')"
   ]
  },
  {
   "cell_type": "code",
   "execution_count": 4,
   "metadata": {},
   "outputs": [
    {
     "name": "stdout",
     "output_type": "stream",
     "text": [
      "DataFrame hypotheses:\n",
      "<class 'pandas.core.frame.DataFrame'>\n",
      "RangeIndex: 9 entries, 0 to 8\n",
      "Data columns (total 5 columns):\n",
      " #   Column      Non-Null Count  Dtype \n",
      "---  ------      --------------  ----- \n",
      " 0   Hypothesis  9 non-null      object\n",
      " 1   Reach       9 non-null      int64 \n",
      " 2   Impact      9 non-null      int64 \n",
      " 3   Confidence  9 non-null      int64 \n",
      " 4   Effort      9 non-null      int64 \n",
      "dtypes: int64(4), object(1)\n",
      "memory usage: 492.0+ bytes\n",
      "None\n",
      "--------------------------------------------------\n",
      "DataFrame orders:\n",
      "<class 'pandas.core.frame.DataFrame'>\n",
      "RangeIndex: 1197 entries, 0 to 1196\n",
      "Data columns (total 5 columns):\n",
      " #   Column         Non-Null Count  Dtype  \n",
      "---  ------         --------------  -----  \n",
      " 0   transactionId  1197 non-null   int64  \n",
      " 1   visitorId      1197 non-null   int64  \n",
      " 2   date           1197 non-null   object \n",
      " 3   revenue        1197 non-null   float64\n",
      " 4   group          1197 non-null   object \n",
      "dtypes: float64(1), int64(2), object(2)\n",
      "memory usage: 46.9+ KB\n",
      "None\n",
      "--------------------------------------------------\n",
      "DataFrame visits:\n",
      "<class 'pandas.core.frame.DataFrame'>\n",
      "RangeIndex: 62 entries, 0 to 61\n",
      "Data columns (total 3 columns):\n",
      " #   Column  Non-Null Count  Dtype \n",
      "---  ------  --------------  ----- \n",
      " 0   date    62 non-null     object\n",
      " 1   group   62 non-null     object\n",
      " 2   visits  62 non-null     int64 \n",
      "dtypes: int64(1), object(2)\n",
      "memory usage: 1.6+ KB\n",
      "None\n"
     ]
    }
   ],
   "source": [
    "# Analizar los DataFrames\n",
    "print('DataFrame hypotheses:')\n",
    "print(hypotheses.info())\n",
    "print('-'*50)\n",
    "print('DataFrame orders:')\n",
    "print(orders.info())\n",
    "print('-'*50)\n",
    "print('DataFrame visits:')\n",
    "print(visits.info())"
   ]
  },
  {
   "cell_type": "code",
   "execution_count": 5,
   "metadata": {},
   "outputs": [
    {
     "name": "stdout",
     "output_type": "stream",
     "text": [
      "DataFrame hypotheses:\n",
      "Hypothesis    0\n",
      "Reach         0\n",
      "Impact        0\n",
      "Confidence    0\n",
      "Effort        0\n",
      "dtype: int64\n",
      "--------------------------------------------------\n",
      "DataFrame orders:\n",
      "transactionId    0\n",
      "visitorId        0\n",
      "date             0\n",
      "revenue          0\n",
      "group            0\n",
      "dtype: int64\n",
      "--------------------------------------------------\n",
      "DataFrame visits:\n",
      "date      0\n",
      "group     0\n",
      "visits    0\n",
      "dtype: int64\n"
     ]
    }
   ],
   "source": [
    "# Analizar si existe algun valor nulo\n",
    "print('DataFrame hypotheses:')\n",
    "print(hypotheses.isnull().sum())\n",
    "print('-'*50)\n",
    "print('DataFrame orders:')\n",
    "print(orders.isnull().sum())\n",
    "print('-'*50)\n",
    "print('DataFrame visits:')\n",
    "print(visits.isnull().sum())"
   ]
  },
  {
   "cell_type": "code",
   "execution_count": 6,
   "metadata": {},
   "outputs": [
    {
     "name": "stdout",
     "output_type": "stream",
     "text": [
      "Valores duplicados en hypotheses: 0\n",
      "--------------------------------------------------\n",
      "Valores duplicados en orders: 0\n",
      "--------------------------------------------------\n",
      "Valores duplicados en visits: 0\n"
     ]
    }
   ],
   "source": [
    "# Analizar si existe algun valor duplicado\n",
    "print('Valores duplicados en hypotheses:', hypotheses.duplicated().sum())\n",
    "print('-'*50)\n",
    "print('Valores duplicados en orders:', orders.duplicated().sum())\n",
    "print('-'*50)\n",
    "print('Valores duplicados en visits:', visits.duplicated().sum())"
   ]
  },
  {
   "cell_type": "code",
   "execution_count": 7,
   "metadata": {},
   "outputs": [
    {
     "name": "stdout",
     "output_type": "stream",
     "text": [
      "DataFrame hypotheses:\n",
      "Hypothesis    9\n",
      "Reach         6\n",
      "Impact        7\n",
      "Confidence    7\n",
      "Effort        6\n",
      "dtype: int64\n",
      "--------------------------------------------------\n",
      "DataFrame orders:\n",
      "transactionId    1197\n",
      "visitorId        1031\n",
      "date               31\n",
      "revenue           403\n",
      "group               2\n",
      "dtype: int64\n",
      "--------------------------------------------------\n",
      "DataFrame visits:\n",
      "date      31\n",
      "group      2\n",
      "visits    58\n",
      "dtype: int64\n"
     ]
    }
   ],
   "source": [
    "# Analizar los valores unicos\n",
    "print('DataFrame hypotheses:')\n",
    "print(hypotheses.nunique())\n",
    "print('-'*50)\n",
    "print('DataFrame orders:')\n",
    "print(orders.nunique())\n",
    "print('-'*50)\n",
    "print('DataFrame visits:')\n",
    "print(visits.nunique())"
   ]
  },
  {
   "cell_type": "code",
   "execution_count": 8,
   "metadata": {},
   "outputs": [
    {
     "name": "stdout",
     "output_type": "stream",
     "text": [
      "DataFrame hypotheses:\n"
     ]
    },
    {
     "data": {
      "text/html": [
       "<div>\n",
       "<style scoped>\n",
       "    .dataframe tbody tr th:only-of-type {\n",
       "        vertical-align: middle;\n",
       "    }\n",
       "\n",
       "    .dataframe tbody tr th {\n",
       "        vertical-align: top;\n",
       "    }\n",
       "\n",
       "    .dataframe thead th {\n",
       "        text-align: right;\n",
       "    }\n",
       "</style>\n",
       "<table border=\"1\" class=\"dataframe\">\n",
       "  <thead>\n",
       "    <tr style=\"text-align: right;\">\n",
       "      <th></th>\n",
       "      <th>Hypothesis</th>\n",
       "      <th>Reach</th>\n",
       "      <th>Impact</th>\n",
       "      <th>Confidence</th>\n",
       "      <th>Effort</th>\n",
       "    </tr>\n",
       "  </thead>\n",
       "  <tbody>\n",
       "    <tr>\n",
       "      <th>0</th>\n",
       "      <td>Add two new channels for attracting traffic. T...</td>\n",
       "      <td>3</td>\n",
       "      <td>10</td>\n",
       "      <td>8</td>\n",
       "      <td>6</td>\n",
       "    </tr>\n",
       "    <tr>\n",
       "      <th>1</th>\n",
       "      <td>Launch your own delivery service. This will sh...</td>\n",
       "      <td>2</td>\n",
       "      <td>5</td>\n",
       "      <td>4</td>\n",
       "      <td>10</td>\n",
       "    </tr>\n",
       "    <tr>\n",
       "      <th>2</th>\n",
       "      <td>Add product recommendation blocks to the store...</td>\n",
       "      <td>8</td>\n",
       "      <td>3</td>\n",
       "      <td>7</td>\n",
       "      <td>3</td>\n",
       "    </tr>\n",
       "    <tr>\n",
       "      <th>3</th>\n",
       "      <td>Change the category structure. This will incre...</td>\n",
       "      <td>8</td>\n",
       "      <td>3</td>\n",
       "      <td>3</td>\n",
       "      <td>8</td>\n",
       "    </tr>\n",
       "    <tr>\n",
       "      <th>4</th>\n",
       "      <td>Change the background color on the main page. ...</td>\n",
       "      <td>3</td>\n",
       "      <td>1</td>\n",
       "      <td>1</td>\n",
       "      <td>1</td>\n",
       "    </tr>\n",
       "    <tr>\n",
       "      <th>5</th>\n",
       "      <td>Add a customer review page. This will increase...</td>\n",
       "      <td>3</td>\n",
       "      <td>2</td>\n",
       "      <td>2</td>\n",
       "      <td>3</td>\n",
       "    </tr>\n",
       "    <tr>\n",
       "      <th>6</th>\n",
       "      <td>Show banners with current offers and sales on ...</td>\n",
       "      <td>5</td>\n",
       "      <td>3</td>\n",
       "      <td>8</td>\n",
       "      <td>3</td>\n",
       "    </tr>\n",
       "    <tr>\n",
       "      <th>7</th>\n",
       "      <td>Add a subscription form to all the main pages....</td>\n",
       "      <td>10</td>\n",
       "      <td>7</td>\n",
       "      <td>8</td>\n",
       "      <td>5</td>\n",
       "    </tr>\n",
       "    <tr>\n",
       "      <th>8</th>\n",
       "      <td>Launch a promotion that gives users discounts ...</td>\n",
       "      <td>1</td>\n",
       "      <td>9</td>\n",
       "      <td>9</td>\n",
       "      <td>5</td>\n",
       "    </tr>\n",
       "  </tbody>\n",
       "</table>\n",
       "</div>"
      ],
      "text/plain": [
       "                                          Hypothesis  Reach  Impact  \\\n",
       "0  Add two new channels for attracting traffic. T...      3      10   \n",
       "1  Launch your own delivery service. This will sh...      2       5   \n",
       "2  Add product recommendation blocks to the store...      8       3   \n",
       "3  Change the category structure. This will incre...      8       3   \n",
       "4  Change the background color on the main page. ...      3       1   \n",
       "5  Add a customer review page. This will increase...      3       2   \n",
       "6  Show banners with current offers and sales on ...      5       3   \n",
       "7  Add a subscription form to all the main pages....     10       7   \n",
       "8  Launch a promotion that gives users discounts ...      1       9   \n",
       "\n",
       "   Confidence  Effort  \n",
       "0           8       6  \n",
       "1           4      10  \n",
       "2           7       3  \n",
       "3           3       8  \n",
       "4           1       1  \n",
       "5           2       3  \n",
       "6           8       3  \n",
       "7           8       5  \n",
       "8           9       5  "
      ]
     },
     "metadata": {},
     "output_type": "display_data"
    },
    {
     "name": "stdout",
     "output_type": "stream",
     "text": [
      "DataFrame orders:\n"
     ]
    },
    {
     "data": {
      "text/html": [
       "<div>\n",
       "<style scoped>\n",
       "    .dataframe tbody tr th:only-of-type {\n",
       "        vertical-align: middle;\n",
       "    }\n",
       "\n",
       "    .dataframe tbody tr th {\n",
       "        vertical-align: top;\n",
       "    }\n",
       "\n",
       "    .dataframe thead th {\n",
       "        text-align: right;\n",
       "    }\n",
       "</style>\n",
       "<table border=\"1\" class=\"dataframe\">\n",
       "  <thead>\n",
       "    <tr style=\"text-align: right;\">\n",
       "      <th></th>\n",
       "      <th>transactionId</th>\n",
       "      <th>visitorId</th>\n",
       "      <th>date</th>\n",
       "      <th>revenue</th>\n",
       "      <th>group</th>\n",
       "    </tr>\n",
       "  </thead>\n",
       "  <tbody>\n",
       "    <tr>\n",
       "      <th>0</th>\n",
       "      <td>3667963787</td>\n",
       "      <td>3312258926</td>\n",
       "      <td>2019-08-15</td>\n",
       "      <td>30.4</td>\n",
       "      <td>B</td>\n",
       "    </tr>\n",
       "    <tr>\n",
       "      <th>1</th>\n",
       "      <td>2804400009</td>\n",
       "      <td>3642806036</td>\n",
       "      <td>2019-08-15</td>\n",
       "      <td>15.2</td>\n",
       "      <td>B</td>\n",
       "    </tr>\n",
       "    <tr>\n",
       "      <th>2</th>\n",
       "      <td>2961555356</td>\n",
       "      <td>4069496402</td>\n",
       "      <td>2019-08-15</td>\n",
       "      <td>10.2</td>\n",
       "      <td>A</td>\n",
       "    </tr>\n",
       "    <tr>\n",
       "      <th>3</th>\n",
       "      <td>3797467345</td>\n",
       "      <td>1196621759</td>\n",
       "      <td>2019-08-15</td>\n",
       "      <td>155.1</td>\n",
       "      <td>B</td>\n",
       "    </tr>\n",
       "    <tr>\n",
       "      <th>4</th>\n",
       "      <td>2282983706</td>\n",
       "      <td>2322279887</td>\n",
       "      <td>2019-08-15</td>\n",
       "      <td>40.5</td>\n",
       "      <td>B</td>\n",
       "    </tr>\n",
       "  </tbody>\n",
       "</table>\n",
       "</div>"
      ],
      "text/plain": [
       "   transactionId   visitorId        date  revenue group\n",
       "0     3667963787  3312258926  2019-08-15     30.4     B\n",
       "1     2804400009  3642806036  2019-08-15     15.2     B\n",
       "2     2961555356  4069496402  2019-08-15     10.2     A\n",
       "3     3797467345  1196621759  2019-08-15    155.1     B\n",
       "4     2282983706  2322279887  2019-08-15     40.5     B"
      ]
     },
     "metadata": {},
     "output_type": "display_data"
    },
    {
     "name": "stdout",
     "output_type": "stream",
     "text": [
      "DataFrame visits:\n"
     ]
    },
    {
     "data": {
      "text/html": [
       "<div>\n",
       "<style scoped>\n",
       "    .dataframe tbody tr th:only-of-type {\n",
       "        vertical-align: middle;\n",
       "    }\n",
       "\n",
       "    .dataframe tbody tr th {\n",
       "        vertical-align: top;\n",
       "    }\n",
       "\n",
       "    .dataframe thead th {\n",
       "        text-align: right;\n",
       "    }\n",
       "</style>\n",
       "<table border=\"1\" class=\"dataframe\">\n",
       "  <thead>\n",
       "    <tr style=\"text-align: right;\">\n",
       "      <th></th>\n",
       "      <th>date</th>\n",
       "      <th>group</th>\n",
       "      <th>visits</th>\n",
       "    </tr>\n",
       "  </thead>\n",
       "  <tbody>\n",
       "    <tr>\n",
       "      <th>0</th>\n",
       "      <td>2019-08-01</td>\n",
       "      <td>A</td>\n",
       "      <td>719</td>\n",
       "    </tr>\n",
       "    <tr>\n",
       "      <th>1</th>\n",
       "      <td>2019-08-02</td>\n",
       "      <td>A</td>\n",
       "      <td>619</td>\n",
       "    </tr>\n",
       "    <tr>\n",
       "      <th>2</th>\n",
       "      <td>2019-08-03</td>\n",
       "      <td>A</td>\n",
       "      <td>507</td>\n",
       "    </tr>\n",
       "    <tr>\n",
       "      <th>3</th>\n",
       "      <td>2019-08-04</td>\n",
       "      <td>A</td>\n",
       "      <td>717</td>\n",
       "    </tr>\n",
       "    <tr>\n",
       "      <th>4</th>\n",
       "      <td>2019-08-05</td>\n",
       "      <td>A</td>\n",
       "      <td>756</td>\n",
       "    </tr>\n",
       "  </tbody>\n",
       "</table>\n",
       "</div>"
      ],
      "text/plain": [
       "         date group  visits\n",
       "0  2019-08-01     A     719\n",
       "1  2019-08-02     A     619\n",
       "2  2019-08-03     A     507\n",
       "3  2019-08-04     A     717\n",
       "4  2019-08-05     A     756"
      ]
     },
     "metadata": {},
     "output_type": "display_data"
    }
   ],
   "source": [
    "# Mostrar los datos\n",
    "print('DataFrame hypotheses:')\n",
    "display(hypotheses)\n",
    "print('DataFrame orders:')\n",
    "display(orders.head())\n",
    "print('DataFrame visits:')\n",
    "display(visits.head())"
   ]
  },
  {
   "cell_type": "markdown",
   "metadata": {},
   "source": [
    "### Observaciones\n",
    "\n",
    "  - El DataFrame `hypotheses` y `orders` contienen en su columnas algunas mayusculas por lo que haremos el cambio a minusculas.\n",
    "  - En el Dataframe `orders` observamos que los valores unicos de la columna `visitorId` solo hay *1031* valores unicos debiendo ser *1197*, esto nos indica que existen valores duplicados implicitos los cuales pueden afectar nuestro analisis de hipotesis mas adelante.\n",
    "  - Cambiar los tipos de datos de algunas columnas en los DataFrames `orders` y `visits`"
   ]
  },
  {
   "cell_type": "markdown",
   "metadata": {},
   "source": [
    "## Modificar Columnas de los DataFrames"
   ]
  },
  {
   "cell_type": "code",
   "execution_count": 9,
   "metadata": {},
   "outputs": [],
   "source": [
    "# Renombrar columnas del DataFrame hypotheses\n",
    "hypotheses.columns = hypotheses.columns.str.lower()\n",
    "# Renombrar columnas del DataFrame orders\n",
    "orders.columns = ['transaction_id', 'visitor_id', 'date', 'revenue', 'group']\n",
    "# Convertir la columna date de orders a tipo datetime\n",
    "orders['date'] = orders['date'].map(lambda x: dt.datetime.strptime(x, '%Y-%m-%d'))\n",
    "# Convertir la columna date de visits a tipo datetime\n",
    "visits['date'] = visits['date'].map(lambda x: dt.datetime.strptime(x, '%Y-%m-%d'))"
   ]
  },
  {
   "cell_type": "code",
   "execution_count": 10,
   "metadata": {},
   "outputs": [
    {
     "name": "stdout",
     "output_type": "stream",
     "text": [
      "DataFrame hypotheses:\n",
      "<class 'pandas.core.frame.DataFrame'>\n",
      "RangeIndex: 9 entries, 0 to 8\n",
      "Data columns (total 5 columns):\n",
      " #   Column      Non-Null Count  Dtype \n",
      "---  ------      --------------  ----- \n",
      " 0   hypothesis  9 non-null      object\n",
      " 1   reach       9 non-null      int64 \n",
      " 2   impact      9 non-null      int64 \n",
      " 3   confidence  9 non-null      int64 \n",
      " 4   effort      9 non-null      int64 \n",
      "dtypes: int64(4), object(1)\n",
      "memory usage: 492.0+ bytes\n",
      "None\n",
      "--------------------------------------------------\n",
      "DataFrame orders:\n",
      "<class 'pandas.core.frame.DataFrame'>\n",
      "RangeIndex: 1197 entries, 0 to 1196\n",
      "Data columns (total 5 columns):\n",
      " #   Column          Non-Null Count  Dtype         \n",
      "---  ------          --------------  -----         \n",
      " 0   transaction_id  1197 non-null   int64         \n",
      " 1   visitor_id      1197 non-null   int64         \n",
      " 2   date            1197 non-null   datetime64[ns]\n",
      " 3   revenue         1197 non-null   float64       \n",
      " 4   group           1197 non-null   object        \n",
      "dtypes: datetime64[ns](1), float64(1), int64(2), object(1)\n",
      "memory usage: 46.9+ KB\n",
      "None\n",
      "--------------------------------------------------\n",
      "DataFrame visits:\n",
      "<class 'pandas.core.frame.DataFrame'>\n",
      "RangeIndex: 62 entries, 0 to 61\n",
      "Data columns (total 3 columns):\n",
      " #   Column  Non-Null Count  Dtype         \n",
      "---  ------  --------------  -----         \n",
      " 0   date    62 non-null     datetime64[ns]\n",
      " 1   group   62 non-null     object        \n",
      " 2   visits  62 non-null     int64         \n",
      "dtypes: datetime64[ns](1), int64(1), object(1)\n",
      "memory usage: 1.6+ KB\n",
      "None\n"
     ]
    }
   ],
   "source": [
    "# Verificar los cambios\n",
    "print('DataFrame hypotheses:')\n",
    "print(hypotheses.info())\n",
    "print('-'*50)\n",
    "print('DataFrame orders:')\n",
    "print(orders.info())\n",
    "print('-'*50)\n",
    "print('DataFrame visits:')\n",
    "print(visits.info())"
   ]
  },
  {
   "cell_type": "markdown",
   "metadata": {},
   "source": [
    "## Buscar valores duplicados implicitos"
   ]
  },
  {
   "cell_type": "code",
   "execution_count": 11,
   "metadata": {},
   "outputs": [
    {
     "data": {
      "text/html": [
       "<div>\n",
       "<style scoped>\n",
       "    .dataframe tbody tr th:only-of-type {\n",
       "        vertical-align: middle;\n",
       "    }\n",
       "\n",
       "    .dataframe tbody tr th {\n",
       "        vertical-align: top;\n",
       "    }\n",
       "\n",
       "    .dataframe thead th {\n",
       "        text-align: right;\n",
       "    }\n",
       "</style>\n",
       "<table border=\"1\" class=\"dataframe\">\n",
       "  <thead>\n",
       "    <tr style=\"text-align: right;\">\n",
       "      <th></th>\n",
       "      <th>visitor_id</th>\n",
       "      <th>transaction_id</th>\n",
       "      <th>date</th>\n",
       "      <th>revenue</th>\n",
       "      <th>group</th>\n",
       "    </tr>\n",
       "  </thead>\n",
       "  <tbody>\n",
       "    <tr>\n",
       "      <th>0</th>\n",
       "      <td>8300375</td>\n",
       "      <td>2</td>\n",
       "      <td>2</td>\n",
       "      <td>2</td>\n",
       "      <td>2</td>\n",
       "    </tr>\n",
       "    <tr>\n",
       "      <th>1</th>\n",
       "      <td>199603092</td>\n",
       "      <td>5</td>\n",
       "      <td>5</td>\n",
       "      <td>4</td>\n",
       "      <td>2</td>\n",
       "    </tr>\n",
       "    <tr>\n",
       "      <th>2</th>\n",
       "      <td>232979603</td>\n",
       "      <td>2</td>\n",
       "      <td>1</td>\n",
       "      <td>2</td>\n",
       "      <td>2</td>\n",
       "    </tr>\n",
       "    <tr>\n",
       "      <th>3</th>\n",
       "      <td>237748145</td>\n",
       "      <td>5</td>\n",
       "      <td>4</td>\n",
       "      <td>3</td>\n",
       "      <td>2</td>\n",
       "    </tr>\n",
       "    <tr>\n",
       "      <th>4</th>\n",
       "      <td>276558944</td>\n",
       "      <td>2</td>\n",
       "      <td>2</td>\n",
       "      <td>2</td>\n",
       "      <td>2</td>\n",
       "    </tr>\n",
       "  </tbody>\n",
       "</table>\n",
       "</div>"
      ],
      "text/plain": [
       "   visitor_id  transaction_id  date  revenue  group\n",
       "0     8300375               2     2        2      2\n",
       "1   199603092               5     5        4      2\n",
       "2   232979603               2     1        2      2\n",
       "3   237748145               5     4        3      2\n",
       "4   276558944               2     2        2      2"
      ]
     },
     "metadata": {},
     "output_type": "display_data"
    },
    {
     "name": "stdout",
     "output_type": "stream",
     "text": [
      "<class 'pandas.core.frame.DataFrame'>\n",
      "RangeIndex: 58 entries, 0 to 57\n",
      "Data columns (total 5 columns):\n",
      " #   Column          Non-Null Count  Dtype\n",
      "---  ------          --------------  -----\n",
      " 0   visitor_id      58 non-null     int64\n",
      " 1   transaction_id  58 non-null     int64\n",
      " 2   date            58 non-null     int64\n",
      " 3   revenue         58 non-null     int64\n",
      " 4   group           58 non-null     int64\n",
      "dtypes: int64(5)\n",
      "memory usage: 2.4 KB\n"
     ]
    }
   ],
   "source": [
    "orders_duplicates = orders.groupby('visitor_id').nunique()\n",
    "orders_duplicates = orders_duplicates[orders_duplicates['group'] > 1]\n",
    "orders_duplicates = orders_duplicates.reset_index()\n",
    "\n",
    "display(orders_duplicates.head())\n",
    "orders_duplicates.info()"
   ]
  },
  {
   "cell_type": "markdown",
   "metadata": {},
   "source": [
    "### Observaciones\n",
    "\n",
    "Ya encontramos los usuarios que realizaron la prueba A y la prueba B pero no podemos descartarlos aun por que podemos afectar el tamaño de la prueba por lo que haremos 3 Dataframes por ahora, el primero es el de `orders` el cual contendra todos los usuarios en ambas pruebas, `orders_duplicates` el cual seran solo los usuarios que hicieron ambas pruebas y el ultimo DataFrame sera donde solo se encuentren los usaurios que realizaron una sola prueba. Asi mas adelante podemos ver el impacto de su inclusion y exclusion en los resultados."
   ]
  },
  {
   "cell_type": "markdown",
   "metadata": {},
   "source": [
    "ffffffffffffffffffffffffffffff"
   ]
  },
  {
   "cell_type": "markdown",
   "metadata": {},
   "source": [
    "# **Parte 1.** Priorizar hipótesis"
   ]
  },
  {
   "cell_type": "markdown",
   "metadata": {},
   "source": [
    "## Aplicar el framework `ICE`"
   ]
  },
  {
   "cell_type": "markdown",
   "metadata": {},
   "source": [
    "Para aplicar el framework `ICE` se puede aplicar las siguientes operaciones:"
   ]
  },
  {
   "cell_type": "markdown",
   "metadata": {},
   "source": [
    "$$\n",
    "\\begin{align}\n",
    "ICE &= Impact\\times Confidence\\times Ease\\\\\n",
    "\\\\\n",
    "ICE &= \\frac{Impact\\times Confidence}{Effort}\n",
    "\\end{align}\n",
    "$$"
   ]
  },
  {
   "cell_type": "markdown",
   "metadata": {},
   "source": [
    "Dado que no tenemos Ease (Facilidad) en nuestro DataFrame utilizaremos la segunda ecuacion"
   ]
  },
  {
   "cell_type": "code",
   "execution_count": 12,
   "metadata": {},
   "outputs": [
    {
     "data": {
      "text/html": [
       "<div>\n",
       "<style scoped>\n",
       "    .dataframe tbody tr th:only-of-type {\n",
       "        vertical-align: middle;\n",
       "    }\n",
       "\n",
       "    .dataframe tbody tr th {\n",
       "        vertical-align: top;\n",
       "    }\n",
       "\n",
       "    .dataframe thead th {\n",
       "        text-align: right;\n",
       "    }\n",
       "</style>\n",
       "<table border=\"1\" class=\"dataframe\">\n",
       "  <thead>\n",
       "    <tr style=\"text-align: right;\">\n",
       "      <th></th>\n",
       "      <th>hypothesis</th>\n",
       "      <th>reach</th>\n",
       "      <th>impact</th>\n",
       "      <th>confidence</th>\n",
       "      <th>effort</th>\n",
       "      <th>ICE</th>\n",
       "    </tr>\n",
       "  </thead>\n",
       "  <tbody>\n",
       "    <tr>\n",
       "      <th>8</th>\n",
       "      <td>Launch a promotion that gives users discounts on their birthdays</td>\n",
       "      <td>1</td>\n",
       "      <td>9</td>\n",
       "      <td>9</td>\n",
       "      <td>5</td>\n",
       "      <td>16.200000</td>\n",
       "    </tr>\n",
       "    <tr>\n",
       "      <th>0</th>\n",
       "      <td>Add two new channels for attracting traffic. This will bring 30% more users</td>\n",
       "      <td>3</td>\n",
       "      <td>10</td>\n",
       "      <td>8</td>\n",
       "      <td>6</td>\n",
       "      <td>13.333333</td>\n",
       "    </tr>\n",
       "    <tr>\n",
       "      <th>7</th>\n",
       "      <td>Add a subscription form to all the main pages. This will help you compile a mailing list</td>\n",
       "      <td>10</td>\n",
       "      <td>7</td>\n",
       "      <td>8</td>\n",
       "      <td>5</td>\n",
       "      <td>11.200000</td>\n",
       "    </tr>\n",
       "    <tr>\n",
       "      <th>6</th>\n",
       "      <td>Show banners with current offers and sales on the main page. This will boost conversion</td>\n",
       "      <td>5</td>\n",
       "      <td>3</td>\n",
       "      <td>8</td>\n",
       "      <td>3</td>\n",
       "      <td>8.000000</td>\n",
       "    </tr>\n",
       "    <tr>\n",
       "      <th>2</th>\n",
       "      <td>Add product recommendation blocks to the store's site. This will increase conversion and average purchase size</td>\n",
       "      <td>8</td>\n",
       "      <td>3</td>\n",
       "      <td>7</td>\n",
       "      <td>3</td>\n",
       "      <td>7.000000</td>\n",
       "    </tr>\n",
       "    <tr>\n",
       "      <th>1</th>\n",
       "      <td>Launch your own delivery service. This will shorten delivery time</td>\n",
       "      <td>2</td>\n",
       "      <td>5</td>\n",
       "      <td>4</td>\n",
       "      <td>10</td>\n",
       "      <td>2.000000</td>\n",
       "    </tr>\n",
       "    <tr>\n",
       "      <th>5</th>\n",
       "      <td>Add a customer review page. This will increase the number of orders</td>\n",
       "      <td>3</td>\n",
       "      <td>2</td>\n",
       "      <td>2</td>\n",
       "      <td>3</td>\n",
       "      <td>1.333333</td>\n",
       "    </tr>\n",
       "    <tr>\n",
       "      <th>3</th>\n",
       "      <td>Change the category structure. This will increase conversion since users will find the products they want more quickly</td>\n",
       "      <td>8</td>\n",
       "      <td>3</td>\n",
       "      <td>3</td>\n",
       "      <td>8</td>\n",
       "      <td>1.125000</td>\n",
       "    </tr>\n",
       "    <tr>\n",
       "      <th>4</th>\n",
       "      <td>Change the background color on the main page. This will increase user engagement</td>\n",
       "      <td>3</td>\n",
       "      <td>1</td>\n",
       "      <td>1</td>\n",
       "      <td>1</td>\n",
       "      <td>1.000000</td>\n",
       "    </tr>\n",
       "  </tbody>\n",
       "</table>\n",
       "</div>"
      ],
      "text/plain": [
       "                                                                                                               hypothesis  \\\n",
       "8                                                        Launch a promotion that gives users discounts on their birthdays   \n",
       "0                                             Add two new channels for attracting traffic. This will bring 30% more users   \n",
       "7                                Add a subscription form to all the main pages. This will help you compile a mailing list   \n",
       "6                                 Show banners with current offers and sales on the main page. This will boost conversion   \n",
       "2          Add product recommendation blocks to the store's site. This will increase conversion and average purchase size   \n",
       "1                                                       Launch your own delivery service. This will shorten delivery time   \n",
       "5                                                     Add a customer review page. This will increase the number of orders   \n",
       "3  Change the category structure. This will increase conversion since users will find the products they want more quickly   \n",
       "4                                        Change the background color on the main page. This will increase user engagement   \n",
       "\n",
       "   reach  impact  confidence  effort        ICE  \n",
       "8      1       9           9       5  16.200000  \n",
       "0      3      10           8       6  13.333333  \n",
       "7     10       7           8       5  11.200000  \n",
       "6      5       3           8       3   8.000000  \n",
       "2      8       3           7       3   7.000000  \n",
       "1      2       5           4      10   2.000000  \n",
       "5      3       2           2       3   1.333333  \n",
       "3      8       3           3       8   1.125000  \n",
       "4      3       1           1       1   1.000000  "
      ]
     },
     "execution_count": 12,
     "metadata": {},
     "output_type": "execute_result"
    }
   ],
   "source": [
    "# Aplicar framework ICE\n",
    "hypotheses_ice = hypotheses.copy()\n",
    "hypotheses_ice['ICE'] = (hypotheses_ice['impact'] * hypotheses_ice['confidence']) / hypotheses_ice['effort']\n",
    "\n",
    "# Ordenar ICE en orden descendente\n",
    "hypotheses_ice = hypotheses_ice.sort_values(by='ICE', ascending=False)\n",
    "\n",
    "\n",
    "# Mostrar los datos\n",
    "pd.set_option('display.max_colwidth', None)\n",
    "hypotheses_ice"
   ]
  },
  {
   "cell_type": "markdown",
   "metadata": {},
   "source": [
    "## Aplicar el framework `RICE`"
   ]
  },
  {
   "cell_type": "markdown",
   "metadata": {},
   "source": [
    "Para aplicar el framework `RICE` se raliza la siguiente operacion:"
   ]
  },
  {
   "cell_type": "markdown",
   "metadata": {},
   "source": [
    "$$\n",
    "\\begin{align}\n",
    "RICE &= \\frac{Reach\\times Impact\\times Confidence}{Effort}\n",
    "\\end{align}\n",
    "$$"
   ]
  },
  {
   "cell_type": "code",
   "execution_count": 13,
   "metadata": {},
   "outputs": [
    {
     "data": {
      "text/html": [
       "<div>\n",
       "<style scoped>\n",
       "    .dataframe tbody tr th:only-of-type {\n",
       "        vertical-align: middle;\n",
       "    }\n",
       "\n",
       "    .dataframe tbody tr th {\n",
       "        vertical-align: top;\n",
       "    }\n",
       "\n",
       "    .dataframe thead th {\n",
       "        text-align: right;\n",
       "    }\n",
       "</style>\n",
       "<table border=\"1\" class=\"dataframe\">\n",
       "  <thead>\n",
       "    <tr style=\"text-align: right;\">\n",
       "      <th></th>\n",
       "      <th>hypothesis</th>\n",
       "      <th>reach</th>\n",
       "      <th>impact</th>\n",
       "      <th>confidence</th>\n",
       "      <th>effort</th>\n",
       "      <th>RICE</th>\n",
       "    </tr>\n",
       "  </thead>\n",
       "  <tbody>\n",
       "    <tr>\n",
       "      <th>7</th>\n",
       "      <td>Add a subscription form to all the main pages. This will help you compile a mailing list</td>\n",
       "      <td>10</td>\n",
       "      <td>7</td>\n",
       "      <td>8</td>\n",
       "      <td>5</td>\n",
       "      <td>112.0</td>\n",
       "    </tr>\n",
       "    <tr>\n",
       "      <th>2</th>\n",
       "      <td>Add product recommendation blocks to the store's site. This will increase conversion and average purchase size</td>\n",
       "      <td>8</td>\n",
       "      <td>3</td>\n",
       "      <td>7</td>\n",
       "      <td>3</td>\n",
       "      <td>56.0</td>\n",
       "    </tr>\n",
       "    <tr>\n",
       "      <th>0</th>\n",
       "      <td>Add two new channels for attracting traffic. This will bring 30% more users</td>\n",
       "      <td>3</td>\n",
       "      <td>10</td>\n",
       "      <td>8</td>\n",
       "      <td>6</td>\n",
       "      <td>40.0</td>\n",
       "    </tr>\n",
       "    <tr>\n",
       "      <th>6</th>\n",
       "      <td>Show banners with current offers and sales on the main page. This will boost conversion</td>\n",
       "      <td>5</td>\n",
       "      <td>3</td>\n",
       "      <td>8</td>\n",
       "      <td>3</td>\n",
       "      <td>40.0</td>\n",
       "    </tr>\n",
       "    <tr>\n",
       "      <th>8</th>\n",
       "      <td>Launch a promotion that gives users discounts on their birthdays</td>\n",
       "      <td>1</td>\n",
       "      <td>9</td>\n",
       "      <td>9</td>\n",
       "      <td>5</td>\n",
       "      <td>16.2</td>\n",
       "    </tr>\n",
       "    <tr>\n",
       "      <th>3</th>\n",
       "      <td>Change the category structure. This will increase conversion since users will find the products they want more quickly</td>\n",
       "      <td>8</td>\n",
       "      <td>3</td>\n",
       "      <td>3</td>\n",
       "      <td>8</td>\n",
       "      <td>9.0</td>\n",
       "    </tr>\n",
       "    <tr>\n",
       "      <th>1</th>\n",
       "      <td>Launch your own delivery service. This will shorten delivery time</td>\n",
       "      <td>2</td>\n",
       "      <td>5</td>\n",
       "      <td>4</td>\n",
       "      <td>10</td>\n",
       "      <td>4.0</td>\n",
       "    </tr>\n",
       "    <tr>\n",
       "      <th>5</th>\n",
       "      <td>Add a customer review page. This will increase the number of orders</td>\n",
       "      <td>3</td>\n",
       "      <td>2</td>\n",
       "      <td>2</td>\n",
       "      <td>3</td>\n",
       "      <td>4.0</td>\n",
       "    </tr>\n",
       "    <tr>\n",
       "      <th>4</th>\n",
       "      <td>Change the background color on the main page. This will increase user engagement</td>\n",
       "      <td>3</td>\n",
       "      <td>1</td>\n",
       "      <td>1</td>\n",
       "      <td>1</td>\n",
       "      <td>3.0</td>\n",
       "    </tr>\n",
       "  </tbody>\n",
       "</table>\n",
       "</div>"
      ],
      "text/plain": [
       "                                                                                                               hypothesis  \\\n",
       "7                                Add a subscription form to all the main pages. This will help you compile a mailing list   \n",
       "2          Add product recommendation blocks to the store's site. This will increase conversion and average purchase size   \n",
       "0                                             Add two new channels for attracting traffic. This will bring 30% more users   \n",
       "6                                 Show banners with current offers and sales on the main page. This will boost conversion   \n",
       "8                                                        Launch a promotion that gives users discounts on their birthdays   \n",
       "3  Change the category structure. This will increase conversion since users will find the products they want more quickly   \n",
       "1                                                       Launch your own delivery service. This will shorten delivery time   \n",
       "5                                                     Add a customer review page. This will increase the number of orders   \n",
       "4                                        Change the background color on the main page. This will increase user engagement   \n",
       "\n",
       "   reach  impact  confidence  effort   RICE  \n",
       "7     10       7           8       5  112.0  \n",
       "2      8       3           7       3   56.0  \n",
       "0      3      10           8       6   40.0  \n",
       "6      5       3           8       3   40.0  \n",
       "8      1       9           9       5   16.2  \n",
       "3      8       3           3       8    9.0  \n",
       "1      2       5           4      10    4.0  \n",
       "5      3       2           2       3    4.0  \n",
       "4      3       1           1       1    3.0  "
      ]
     },
     "execution_count": 13,
     "metadata": {},
     "output_type": "execute_result"
    }
   ],
   "source": [
    "# Aplicar framework RICE\n",
    "hypotheses_rice = hypotheses.copy()\n",
    "hypotheses_rice['RICE'] = (hypotheses_rice['reach'] * hypotheses_rice['impact'] * hypotheses_rice['confidence']) / hypotheses_rice['effort']\n",
    "\n",
    "# Ordenar RICE en orden descendente\n",
    "hypotheses_rice = hypotheses_rice.sort_values(by='RICE', ascending=False)\n",
    "\n",
    "# Mostrar los datos\n",
    "hypotheses_rice"
   ]
  },
  {
   "cell_type": "markdown",
   "metadata": {},
   "source": [
    "## Mostrar cómo cambia la priorización de hipótesis cuando utilizas `RICE` en lugar de `ICE`"
   ]
  },
  {
   "cell_type": "code",
   "execution_count": 14,
   "metadata": {},
   "outputs": [
    {
     "data": {
      "text/html": [
       "<div>\n",
       "<style scoped>\n",
       "    .dataframe tbody tr th:only-of-type {\n",
       "        vertical-align: middle;\n",
       "    }\n",
       "\n",
       "    .dataframe tbody tr th {\n",
       "        vertical-align: top;\n",
       "    }\n",
       "\n",
       "    .dataframe thead th {\n",
       "        text-align: right;\n",
       "    }\n",
       "</style>\n",
       "<table border=\"1\" class=\"dataframe\">\n",
       "  <thead>\n",
       "    <tr style=\"text-align: right;\">\n",
       "      <th></th>\n",
       "      <th>hypothesis</th>\n",
       "      <th>ICE</th>\n",
       "      <th>RICE</th>\n",
       "    </tr>\n",
       "  </thead>\n",
       "  <tbody>\n",
       "    <tr>\n",
       "      <th>0</th>\n",
       "      <td>Launch a promotion that gives users discounts on their birthdays</td>\n",
       "      <td>16.2</td>\n",
       "      <td>16.2</td>\n",
       "    </tr>\n",
       "    <tr>\n",
       "      <th>1</th>\n",
       "      <td>Add two new channels for attracting traffic. This will bring 30% more users</td>\n",
       "      <td>13.3</td>\n",
       "      <td>40.0</td>\n",
       "    </tr>\n",
       "    <tr>\n",
       "      <th>2</th>\n",
       "      <td>Add a subscription form to all the main pages. This will help you compile a mailing list</td>\n",
       "      <td>11.2</td>\n",
       "      <td>112.0</td>\n",
       "    </tr>\n",
       "    <tr>\n",
       "      <th>3</th>\n",
       "      <td>Show banners with current offers and sales on the main page. This will boost conversion</td>\n",
       "      <td>8.0</td>\n",
       "      <td>40.0</td>\n",
       "    </tr>\n",
       "    <tr>\n",
       "      <th>4</th>\n",
       "      <td>Add product recommendation blocks to the store's site. This will increase conversion and average purchase size</td>\n",
       "      <td>7.0</td>\n",
       "      <td>56.0</td>\n",
       "    </tr>\n",
       "    <tr>\n",
       "      <th>5</th>\n",
       "      <td>Launch your own delivery service. This will shorten delivery time</td>\n",
       "      <td>2.0</td>\n",
       "      <td>4.0</td>\n",
       "    </tr>\n",
       "    <tr>\n",
       "      <th>6</th>\n",
       "      <td>Add a customer review page. This will increase the number of orders</td>\n",
       "      <td>1.3</td>\n",
       "      <td>4.0</td>\n",
       "    </tr>\n",
       "    <tr>\n",
       "      <th>7</th>\n",
       "      <td>Change the category structure. This will increase conversion since users will find the products they want more quickly</td>\n",
       "      <td>1.1</td>\n",
       "      <td>9.0</td>\n",
       "    </tr>\n",
       "    <tr>\n",
       "      <th>8</th>\n",
       "      <td>Change the background color on the main page. This will increase user engagement</td>\n",
       "      <td>1.0</td>\n",
       "      <td>3.0</td>\n",
       "    </tr>\n",
       "  </tbody>\n",
       "</table>\n",
       "</div>"
      ],
      "text/plain": [
       "                                                                                                               hypothesis  \\\n",
       "0                                                        Launch a promotion that gives users discounts on their birthdays   \n",
       "1                                             Add two new channels for attracting traffic. This will bring 30% more users   \n",
       "2                                Add a subscription form to all the main pages. This will help you compile a mailing list   \n",
       "3                                 Show banners with current offers and sales on the main page. This will boost conversion   \n",
       "4          Add product recommendation blocks to the store's site. This will increase conversion and average purchase size   \n",
       "5                                                       Launch your own delivery service. This will shorten delivery time   \n",
       "6                                                     Add a customer review page. This will increase the number of orders   \n",
       "7  Change the category structure. This will increase conversion since users will find the products they want more quickly   \n",
       "8                                        Change the background color on the main page. This will increase user engagement   \n",
       "\n",
       "    ICE   RICE  \n",
       "0  16.2   16.2  \n",
       "1  13.3   40.0  \n",
       "2  11.2  112.0  \n",
       "3   8.0   40.0  \n",
       "4   7.0   56.0  \n",
       "5   2.0    4.0  \n",
       "6   1.3    4.0  \n",
       "7   1.1    9.0  \n",
       "8   1.0    3.0  "
      ]
     },
     "execution_count": 14,
     "metadata": {},
     "output_type": "execute_result"
    }
   ],
   "source": [
    "# Unir los DataFrames\n",
    "hypotheses_ice_rice = hypotheses_ice.merge(hypotheses_rice, on='hypothesis')\n",
    "hypotheses_ice_rice = hypotheses_ice_rice[['hypothesis', 'ICE', 'RICE']]\n",
    "hypotheses_ice_rice.round(1)"
   ]
  },
  {
   "cell_type": "markdown",
   "metadata": {},
   "source": [
    "De acuerdo a las sigueintes tablas podemos decir lo siguiente:\n",
    "\n",
    " - Promoción de descuentos en cumpleaños:  \n",
    "    - __ICE:__ 16.2  \n",
    "    - __RICE:__ 16.2  \n",
    "   Ambos marcos coinciden en este caso. La confianza es de 9; bastante alta y el esfuerzo es de 5, no es alto para implementarlo, podría ser una buena opción.  \n",
    "   \n",
    " - Agregar dos nuevos canales para atraer tráfico:  \n",
    "    - __ICE:__ 13.33  \n",
    "    - __RICE:__ 40.0  \n",
    "   Aquí vemos una diferencia significativa. RICE valora más esta idea debido a su alto alcance (traer un 30% más de usuarios).  \n",
    "   \n",
    " - Agregar un formulario de suscripción en todas las páginas principales:  \n",
    "    - __ICE:__ 11.2  \n",
    "    - __RICE:__ 112.0  \n",
    "   Nuevamente, RICE otorga más puntos debido al alto alcance (compilar una lista de correo).  \n",
    "\n",
    " - Mostrar banners con ofertas y descuentos en la página principal:  \n",
    "    - __ICE:__ 8.0  \n",
    "    - __RICE:__ 40.0  \n",
    "   RICE valora más esta idea debido a su impacto potencial en la conversión.  \n",
    "\n",
    " - Agregar bloques de recomendación de productos en el sitio de la tienda:  \n",
    "    - __ICE:__ 7.0  \n",
    "    - __RICE:__ 56.0  \n",
    "   RICE nuevamente otorga más puntos debido al alto impacto en la conversión y el tamaño promedio de compra.  \n",
    "\n",
    " - Lanzar tu propio servicio de entrega:  \n",
    "    - __ICE:__ 2.0  \n",
    "    - __RICE:__ 4.0  \n",
    "   Ambos marcos sugieren que esta idea tiene un impacto limitado.  \n",
    "\n",
    " - Agregar una página de reseñas de clientes:  \n",
    "    - __ICE:__ 1.33  \n",
    "    - __RICE:__ 4.0  \n",
    "   RICE valora más esta idea debido a su impacto en el número de pedidos.  \n",
    "\n",
    " - Cambiar la estructura de categorías:  \n",
    "    - __ICE:__ 1.125  \n",
    "    - __RICE:__ 9.0  \n",
    "   RICE nuevamente otorga más puntos debido a su impacto en la conversión.  \n",
    "\n",
    "En general, RICE tiende a valorar más las ideas con un alto alcance, mientras que ICE se enfoca en el impacto, la confianza y la facilidad de implementación. La elección entre ambos depende de tus objetivos y contexto específico. ¿Estás buscando ideas rápidas y fáciles de implementar o estás planificando a largo plazo?"
   ]
  },
  {
   "cell_type": "markdown",
   "metadata": {},
   "source": [
    "### Nuestras 3 mejores opciones en el framwork `ICE` son: \n",
    " - Promoción de descuentos en cumpleaños: _Alcance:_ 1, _Impacto:_ 9, _Confianza:_ 9, _Esfuerzo:_ 5\n",
    " - Agregar dos nuevos canales para atraer tráfico: _Alcance:_ 3, _Impacto:_ 10, _Confianza:_ 8, _Esfuerzo:_ 6\n",
    " - Agregar un formulario de suscripción en todas las páginas principales: _Alcance:_ 10, _Impacto:_ 8, _Confianza:_ 7, _Esfuerzo:_ 5"
   ]
  },
  {
   "cell_type": "markdown",
   "metadata": {},
   "source": [
    "### Nuestras 3 mejores opciones en el framwork `RICE` son: \n",
    " - Agregar un formulario de suscripción en todas las páginas principales: _Alcance:_ 10, _Impacto:_ 8, _Confianza:_ 7, _Esfuerzo:_ 5\n",
    " - Agregar bloques de recomendación de productos en el sitio de la tienda: _Alcance:_ 8, _Impacto:_ 3, _Confianza:_ 7, _Esfuerzo:_ 3\n",
    " - Agregar dos nuevos canales para atraer tráfico: _Alcance:_ 3, _Impacto:_ 10, _Confianza:_ 8, _Esfuerzo:_ 6"
   ]
  },
  {
   "cell_type": "markdown",
   "metadata": {},
   "source": [
    "#### Seleccion de hipotesis\n",
    "\n",
    "Como podemos observar algunas hipotesis en ambos frameworks se repiten pero haremos un analisis mas profundo:\n",
    "\n",
    " 1. La hipotesis con el `ICE` mas alto es la _Promocion de descuentos en cumpleaños_ la cual tiene un alcance muy bajo, el impacto y la confianza es alto y no requiere mucho esfuerzo, aun asi debido al alcance no la tomaria en cuenta.\n",
    " 2. Agregar dos nuevos canales para atrear trafico es la segunda opcion con el `ICE` mas alto y la tercera en `RICE` teniendo un alcance bajo, un impacto y confianza altos y un esfuerzo medio por lo que seri una buena opcion.\n",
    " 3. Agragar un forulario de suscripcion en todas las paginas principales es la 3 opcion en el framework `ICE` y la que tiene el `RICE` mas alto teniendo el mayor alcance, el impacto y la confianza no estan nada al y requiere un esfuerzo medio, por lo que por ahora es nuestra mejor opcion.\n",
    " 4. Agregar bloques de recomendacion de productos en el sitio es la segunda opcion de acuerod al `RICE` con un alcance alto, un impacto muy bajo una confianza alta y un esfuerzo medio, debido al impacto yo la descartatia como una de nuestras opciones. \n",
    " \n",
    "De acuerdo a este analisis yo tomaria como hipotesis la siguientes en este orden: \n",
    " 1. Agregar dos nuevos canales para atraer trafico. Esto atraera un 30% mas de usuarios.\n",
    " 2. Agregar un formulario de suscripcion en todas las paginas principales. Esto ayudara a compilar un a lista de correos.\n",
    " \n",
    "A pesar de que agregar un formulario de suscripcion tiene un mayor alcance y menor esfuerzo, me decanto por Agregar dos nuevos canales ya que tiene un mayor Impacto en los usuarios y un mayor confianza, aunque algo elevado el esfuerzo en comparacion de su contraparte, ya que esto nos ayudara a atraer un 30% mas de usuarios.\n",
    "\n",
    "En este caso si se tiene el esfuerzo suficiente se pueden realizar ambas pruebas de lo contrario nuestra mejor opcion es Agregar dos nuevos canales de trafico."
   ]
  },
  {
   "cell_type": "markdown",
   "metadata": {},
   "source": [
    "# **Parte 2.** Análisis de test A/B"
   ]
  },
  {
   "cell_type": "markdown",
   "metadata": {},
   "source": [
    "## Representa gráficamente el ingreso acumulado por grupo."
   ]
  },
  {
   "cell_type": "code",
   "execution_count": 16,
   "metadata": {},
   "outputs": [
    {
     "data": {
      "text/html": [
       "<div>\n",
       "<style scoped>\n",
       "    .dataframe tbody tr th:only-of-type {\n",
       "        vertical-align: middle;\n",
       "    }\n",
       "\n",
       "    .dataframe tbody tr th {\n",
       "        vertical-align: top;\n",
       "    }\n",
       "\n",
       "    .dataframe thead th {\n",
       "        text-align: right;\n",
       "    }\n",
       "</style>\n",
       "<table border=\"1\" class=\"dataframe\">\n",
       "  <thead>\n",
       "    <tr style=\"text-align: right;\">\n",
       "      <th></th>\n",
       "      <th>date</th>\n",
       "      <th>group</th>\n",
       "      <th>revenue</th>\n",
       "    </tr>\n",
       "  </thead>\n",
       "  <tbody>\n",
       "    <tr>\n",
       "      <th>0</th>\n",
       "      <td>2019-08-01</td>\n",
       "      <td>A</td>\n",
       "      <td>2356.8</td>\n",
       "    </tr>\n",
       "    <tr>\n",
       "      <th>1</th>\n",
       "      <td>2019-08-01</td>\n",
       "      <td>B</td>\n",
       "      <td>1620.0</td>\n",
       "    </tr>\n",
       "    <tr>\n",
       "      <th>2</th>\n",
       "      <td>2019-08-02</td>\n",
       "      <td>A</td>\n",
       "      <td>1503.5</td>\n",
       "    </tr>\n",
       "    <tr>\n",
       "      <th>3</th>\n",
       "      <td>2019-08-02</td>\n",
       "      <td>B</td>\n",
       "      <td>2623.8</td>\n",
       "    </tr>\n",
       "    <tr>\n",
       "      <th>4</th>\n",
       "      <td>2019-08-03</td>\n",
       "      <td>A</td>\n",
       "      <td>1815.2</td>\n",
       "    </tr>\n",
       "    <tr>\n",
       "      <th>...</th>\n",
       "      <td>...</td>\n",
       "      <td>...</td>\n",
       "      <td>...</td>\n",
       "    </tr>\n",
       "    <tr>\n",
       "      <th>57</th>\n",
       "      <td>2019-08-29</td>\n",
       "      <td>B</td>\n",
       "      <td>3623.7</td>\n",
       "    </tr>\n",
       "    <tr>\n",
       "      <th>58</th>\n",
       "      <td>2019-08-30</td>\n",
       "      <td>A</td>\n",
       "      <td>1364.3</td>\n",
       "    </tr>\n",
       "    <tr>\n",
       "      <th>59</th>\n",
       "      <td>2019-08-30</td>\n",
       "      <td>B</td>\n",
       "      <td>3393.3</td>\n",
       "    </tr>\n",
       "    <tr>\n",
       "      <th>60</th>\n",
       "      <td>2019-08-31</td>\n",
       "      <td>A</td>\n",
       "      <td>991.4</td>\n",
       "    </tr>\n",
       "    <tr>\n",
       "      <th>61</th>\n",
       "      <td>2019-08-31</td>\n",
       "      <td>B</td>\n",
       "      <td>2104.3</td>\n",
       "    </tr>\n",
       "  </tbody>\n",
       "</table>\n",
       "<p>62 rows × 3 columns</p>\n",
       "</div>"
      ],
      "text/plain": [
       "         date group  revenue\n",
       "0  2019-08-01     A   2356.8\n",
       "1  2019-08-01     B   1620.0\n",
       "2  2019-08-02     A   1503.5\n",
       "3  2019-08-02     B   2623.8\n",
       "4  2019-08-03     A   1815.2\n",
       "..        ...   ...      ...\n",
       "57 2019-08-29     B   3623.7\n",
       "58 2019-08-30     A   1364.3\n",
       "59 2019-08-30     B   3393.3\n",
       "60 2019-08-31     A    991.4\n",
       "61 2019-08-31     B   2104.3\n",
       "\n",
       "[62 rows x 3 columns]"
      ]
     },
     "execution_count": 16,
     "metadata": {},
     "output_type": "execute_result"
    }
   ],
   "source": [
    "daily_orders = orders.groupby(['date', 'group'])['revenue'].sum().reset_index()\n",
    "daily_orders"
   ]
  },
  {
   "cell_type": "code",
   "execution_count": 31,
   "metadata": {},
   "outputs": [
    {
     "data": {
      "image/png": "[encoded data removed]",
      "text/plain": [
       "<Figure size 1200x600 with 1 Axes>"
      ]
     },
     "metadata": {},
     "output_type": "display_data"
    }
   ],
   "source": [
    "daily_orders.pivot_table(\n",
    "    index='date',\n",
    "    columns='group',\n",
    "    values='cumulative_revenue',\n",
    "    aggfunc='mean'\n",
    ").reset_index().melt(id_vars='date', value_name='cumulative_revenue', var_name='group')\n",
    "\n",
    "plt.figure(figsize=(12, 6))\n",
    "sns.lineplot(data=daily_orders, x='date', y='cumulative_revenue', hue='group')\n",
    "plt.title('Ingreso Acumulado por Grupo')\n",
    "plt.xlabel('Fecha')\n",
    "plt.ylabel('Ingreso Acumulado')\n",
    "plt.xticks(rotation=45)\n",
    "plt.grid()\n",
    "plt.show()"
   ]
  },
  {
   "cell_type": "markdown",
   "metadata": {},
   "source": [
    " - Grupo A: Comienza más bajo pero eventualmente supera al Grupo B. Indica que tuvo un inicio más lento pero generó un mayor ingreso acumulado al final del período observado.\n",
    " - Grupo B: Muestra un aumento constante pero no alcanza el mismo nivel de ingreso final que el Grupo A.\n",
    "\n",
    "### Conclusión:\n",
    "\n",
    "Ambos grupos aumentaron su ingreso acumulado con el tiempo.\n",
    "Grupo A fue más exitoso en generar un mayor ingreso al final del período.\n",
    "Las estrategias o condiciones aplicadas al Grupo A podrían haber sido más efectivas en términos de generación de ingresos."
   ]
  }
 ],
 "metadata": {
  "kernelspec": {
   "display_name": "Python 3",
   "language": "python",
   "name": "python3"
  },
  "language_info": {
   "codemirror_mode": {
    "name": "ipython",
    "version": 3
   },
   "file_extension": ".py",
   "mimetype": "text/x-python",
   "name": "python",
   "nbconvert_exporter": "python",
   "pygments_lexer": "ipython3",
   "version": "3.12.4"
  }
 },
 "nbformat": 4,
 "nbformat_minor": 2
}
